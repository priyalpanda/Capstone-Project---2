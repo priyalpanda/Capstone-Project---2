{
 "cells": [
  {
   "cell_type": "markdown",
   "id": "b5e050e2",
   "metadata": {},
   "source": [
    "## Load data and describe the data"
   ]
  },
  {
   "cell_type": "markdown",
   "id": "ec6c4f63",
   "metadata": {},
   "source": [
    "Import necessary libraries & packages\n",
    "\n",
    "Load Data set\n",
    "\n",
    "Check necessary details about data like shape, data types of variable, missing values etc\n"
   ]
  },
  {
   "cell_type": "code",
   "execution_count": 2,
   "id": "6885d2a0",
   "metadata": {},
   "outputs": [],
   "source": [
    "import numpy as np\n",
    "import pandas as pd\n",
    "import seaborn as sns\n",
    "import matplotlib.pyplot as plt\n",
    "import scipy.stats as stats\n",
    "import math\n",
    "from scipy.stats import   ttest_1samp\n",
    "from sklearn.preprocessing import StandardScaler\n",
    "from sklearn.preprocessing import MinMaxScaler\n",
    "from sklearn.model_selection import train_test_split\n",
    "import statsmodels.api as sm\n",
    "from sklearn.linear_model import LinearRegression\n",
    "from sklearn.metrics import mean_squared_error\n",
    "from statsmodels.stats.outliers_influence import variance_inflation_factor\n",
    "import warnings\n",
    "warnings.filterwarnings(\"ignore\")"
   ]
  },
  {
   "cell_type": "code",
   "execution_count": 3,
   "id": "f96b8413",
   "metadata": {},
   "outputs": [
    {
     "data": {
      "text/html": [
       "<div>\n",
       "<style scoped>\n",
       "    .dataframe tbody tr th:only-of-type {\n",
       "        vertical-align: middle;\n",
       "    }\n",
       "\n",
       "    .dataframe tbody tr th {\n",
       "        vertical-align: top;\n",
       "    }\n",
       "\n",
       "    .dataframe thead th {\n",
       "        text-align: right;\n",
       "    }\n",
       "</style>\n",
       "<table border=\"1\" class=\"dataframe\">\n",
       "  <thead>\n",
       "    <tr style=\"text-align: right;\">\n",
       "      <th></th>\n",
       "      <th>Season</th>\n",
       "      <th>Month</th>\n",
       "      <th>Date</th>\n",
       "      <th>Temperature</th>\n",
       "    </tr>\n",
       "  </thead>\n",
       "  <tbody>\n",
       "    <tr>\n",
       "      <th>0</th>\n",
       "      <td>Winter</td>\n",
       "      <td>Jan</td>\n",
       "      <td>1</td>\n",
       "      <td>2.3</td>\n",
       "    </tr>\n",
       "    <tr>\n",
       "      <th>1</th>\n",
       "      <td>Winter</td>\n",
       "      <td>Jan</td>\n",
       "      <td>2</td>\n",
       "      <td>2.2</td>\n",
       "    </tr>\n",
       "    <tr>\n",
       "      <th>2</th>\n",
       "      <td>Winter</td>\n",
       "      <td>Jan</td>\n",
       "      <td>3</td>\n",
       "      <td>2.4</td>\n",
       "    </tr>\n",
       "    <tr>\n",
       "      <th>3</th>\n",
       "      <td>Winter</td>\n",
       "      <td>Jan</td>\n",
       "      <td>4</td>\n",
       "      <td>2.8</td>\n",
       "    </tr>\n",
       "    <tr>\n",
       "      <th>4</th>\n",
       "      <td>Winter</td>\n",
       "      <td>Jan</td>\n",
       "      <td>5</td>\n",
       "      <td>2.5</td>\n",
       "    </tr>\n",
       "  </tbody>\n",
       "</table>\n",
       "</div>"
      ],
      "text/plain": [
       "   Season Month  Date  Temperature\n",
       "0  Winter   Jan     1          2.3\n",
       "1  Winter   Jan     2          2.2\n",
       "2  Winter   Jan     3          2.4\n",
       "3  Winter   Jan     4          2.8\n",
       "4  Winter   Jan     5          2.5"
      ]
     },
     "execution_count": 3,
     "metadata": {},
     "output_type": "execute_result"
    }
   ],
   "source": [
    "Data  = pd.read_csv('cold_storage.csv') # Import the dataset named 'Admission_predict.csv'\n",
    "Data.head() "
   ]
  },
  {
   "cell_type": "code",
   "execution_count": 4,
   "id": "ef32cf14",
   "metadata": {},
   "outputs": [
    {
     "data": {
      "text/plain": [
       "(365, 4)"
      ]
     },
     "execution_count": 4,
     "metadata": {},
     "output_type": "execute_result"
    }
   ],
   "source": [
    "Data.shape"
   ]
  },
  {
   "cell_type": "code",
   "execution_count": 5,
   "id": "effa5548",
   "metadata": {},
   "outputs": [
    {
     "name": "stdout",
     "output_type": "stream",
     "text": [
      "<class 'pandas.core.frame.DataFrame'>\n",
      "RangeIndex: 365 entries, 0 to 364\n",
      "Data columns (total 4 columns):\n",
      " #   Column       Non-Null Count  Dtype  \n",
      "---  ------       --------------  -----  \n",
      " 0   Season       365 non-null    object \n",
      " 1   Month        365 non-null    object \n",
      " 2   Date         365 non-null    int64  \n",
      " 3   Temperature  365 non-null    float64\n",
      "dtypes: float64(1), int64(1), object(2)\n",
      "memory usage: 11.5+ KB\n"
     ]
    }
   ],
   "source": [
    "Data.info()"
   ]
  },
  {
   "cell_type": "code",
   "execution_count": 7,
   "id": "7beda836",
   "metadata": {},
   "outputs": [
    {
     "data": {
      "text/html": [
       "<div>\n",
       "<style scoped>\n",
       "    .dataframe tbody tr th:only-of-type {\n",
       "        vertical-align: middle;\n",
       "    }\n",
       "\n",
       "    .dataframe tbody tr th {\n",
       "        vertical-align: top;\n",
       "    }\n",
       "\n",
       "    .dataframe thead th {\n",
       "        text-align: right;\n",
       "    }\n",
       "</style>\n",
       "<table border=\"1\" class=\"dataframe\">\n",
       "  <thead>\n",
       "    <tr style=\"text-align: right;\">\n",
       "      <th></th>\n",
       "      <th>Date</th>\n",
       "      <th>Temperature</th>\n",
       "    </tr>\n",
       "  </thead>\n",
       "  <tbody>\n",
       "    <tr>\n",
       "      <th>count</th>\n",
       "      <td>365.000000</td>\n",
       "      <td>365.000000</td>\n",
       "    </tr>\n",
       "    <tr>\n",
       "      <th>mean</th>\n",
       "      <td>15.720548</td>\n",
       "      <td>3.002466</td>\n",
       "    </tr>\n",
       "    <tr>\n",
       "      <th>std</th>\n",
       "      <td>8.808321</td>\n",
       "      <td>0.465832</td>\n",
       "    </tr>\n",
       "    <tr>\n",
       "      <th>min</th>\n",
       "      <td>1.000000</td>\n",
       "      <td>1.700000</td>\n",
       "    </tr>\n",
       "    <tr>\n",
       "      <th>25%</th>\n",
       "      <td>8.000000</td>\n",
       "      <td>2.700000</td>\n",
       "    </tr>\n",
       "    <tr>\n",
       "      <th>50%</th>\n",
       "      <td>16.000000</td>\n",
       "      <td>3.000000</td>\n",
       "    </tr>\n",
       "    <tr>\n",
       "      <th>75%</th>\n",
       "      <td>23.000000</td>\n",
       "      <td>3.300000</td>\n",
       "    </tr>\n",
       "    <tr>\n",
       "      <th>max</th>\n",
       "      <td>31.000000</td>\n",
       "      <td>4.500000</td>\n",
       "    </tr>\n",
       "  </tbody>\n",
       "</table>\n",
       "</div>"
      ],
      "text/plain": [
       "             Date  Temperature\n",
       "count  365.000000   365.000000\n",
       "mean    15.720548     3.002466\n",
       "std      8.808321     0.465832\n",
       "min      1.000000     1.700000\n",
       "25%      8.000000     2.700000\n",
       "50%     16.000000     3.000000\n",
       "75%     23.000000     3.300000\n",
       "max     31.000000     4.500000"
      ]
     },
     "execution_count": 7,
     "metadata": {},
     "output_type": "execute_result"
    }
   ],
   "source": [
    "Data.describe()"
   ]
  },
  {
   "cell_type": "markdown",
   "id": "d7b62f29",
   "metadata": {},
   "source": [
    "# Check For Duplicates"
   ]
  },
  {
   "cell_type": "code",
   "execution_count": 8,
   "id": "a7270b5a",
   "metadata": {},
   "outputs": [
    {
     "data": {
      "text/plain": [
       "0"
      ]
     },
     "execution_count": 8,
     "metadata": {},
     "output_type": "execute_result"
    }
   ],
   "source": [
    "dupes = Data.duplicated()\n",
    "sum(dupes)"
   ]
  },
  {
   "cell_type": "code",
   "execution_count": 9,
   "id": "895b0aef",
   "metadata": {},
   "outputs": [],
   "source": [
    "#no duplicates"
   ]
  },
  {
   "cell_type": "markdown",
   "id": "eae9716b",
   "metadata": {},
   "source": [
    "# Check for missing values"
   ]
  },
  {
   "cell_type": "code",
   "execution_count": 10,
   "id": "93a75ce0",
   "metadata": {},
   "outputs": [
    {
     "data": {
      "text/plain": [
       "False"
      ]
     },
     "execution_count": 10,
     "metadata": {},
     "output_type": "execute_result"
    }
   ],
   "source": [
    "Data.isnull().values.any()   # Any of the values in the dataframe is a missing value"
   ]
  },
  {
   "cell_type": "code",
   "execution_count": 11,
   "id": "e0d0c104",
   "metadata": {},
   "outputs": [
    {
     "data": {
      "text/plain": [
       "0"
      ]
     },
     "execution_count": 11,
     "metadata": {},
     "output_type": "execute_result"
    }
   ],
   "source": [
    "Data.isnull().sum().sum()  # Total number of recognised missing values in the entire dataframe"
   ]
  },
  {
   "cell_type": "code",
   "execution_count": 12,
   "id": "fa06d4bd",
   "metadata": {},
   "outputs": [
    {
     "data": {
      "text/html": [
       "<div>\n",
       "<style scoped>\n",
       "    .dataframe tbody tr th:only-of-type {\n",
       "        vertical-align: middle;\n",
       "    }\n",
       "\n",
       "    .dataframe tbody tr th {\n",
       "        vertical-align: top;\n",
       "    }\n",
       "\n",
       "    .dataframe thead th {\n",
       "        text-align: right;\n",
       "    }\n",
       "</style>\n",
       "<table border=\"1\" class=\"dataframe\">\n",
       "  <thead>\n",
       "    <tr style=\"text-align: right;\">\n",
       "      <th></th>\n",
       "      <th>Number of missing values</th>\n",
       "    </tr>\n",
       "  </thead>\n",
       "  <tbody>\n",
       "    <tr>\n",
       "      <th>Season</th>\n",
       "      <td>0</td>\n",
       "    </tr>\n",
       "    <tr>\n",
       "      <th>Month</th>\n",
       "      <td>0</td>\n",
       "    </tr>\n",
       "    <tr>\n",
       "      <th>Date</th>\n",
       "      <td>0</td>\n",
       "    </tr>\n",
       "    <tr>\n",
       "      <th>Temperature</th>\n",
       "      <td>0</td>\n",
       "    </tr>\n",
       "  </tbody>\n",
       "</table>\n",
       "</div>"
      ],
      "text/plain": [
       "             Number of missing values\n",
       "Season                              0\n",
       "Month                               0\n",
       "Date                                0\n",
       "Temperature                         0"
      ]
     },
     "execution_count": 12,
     "metadata": {},
     "output_type": "execute_result"
    }
   ],
   "source": [
    "pd.DataFrame( Data.isnull().sum(), columns= ['Number of missing values'])"
   ]
  },
  {
   "cell_type": "code",
   "execution_count": 13,
   "id": "f7972e1c",
   "metadata": {},
   "outputs": [],
   "source": [
    "#no missing values"
   ]
  },
  {
   "cell_type": "markdown",
   "id": "6314d1ba",
   "metadata": {},
   "source": [
    "# Unique Values"
   ]
  },
  {
   "cell_type": "code",
   "execution_count": 14,
   "id": "9b605b86",
   "metadata": {},
   "outputs": [
    {
     "data": {
      "text/plain": [
       "[1.7,\n",
       " 1.8,\n",
       " 1.9,\n",
       " 2.0,\n",
       " 2.1,\n",
       " 2.2,\n",
       " 2.3,\n",
       " 2.4,\n",
       " 2.5,\n",
       " 2.6,\n",
       " 2.7,\n",
       " 2.8,\n",
       " 2.9,\n",
       " 3.0,\n",
       " 3.1,\n",
       " 3.2,\n",
       " 3.3,\n",
       " 3.4,\n",
       " 3.5,\n",
       " 3.6,\n",
       " 3.7,\n",
       " 3.8,\n",
       " 3.9,\n",
       " 4.0,\n",
       " 4.1,\n",
       " 4.2,\n",
       " 4.3,\n",
       " 4.4,\n",
       " 4.5]"
      ]
     },
     "execution_count": 14,
     "metadata": {},
     "output_type": "execute_result"
    }
   ],
   "source": [
    "unique=np.unique(Data.Temperature)\n",
    "sorted(unique)"
   ]
  },
  {
   "cell_type": "markdown",
   "id": "12061a05",
   "metadata": {},
   "source": [
    "# Find the mean"
   ]
  },
  {
   "cell_type": "code",
   "execution_count": 15,
   "id": "fa76bb4b",
   "metadata": {},
   "outputs": [
    {
     "name": "stdout",
     "output_type": "stream",
     "text": [
      "Mean:  3.0024657534246546\n"
     ]
    },
    {
     "data": {
      "image/png": "[encoded data removed]",
      "text/plain": [
       "<Figure size 720x360 with 1 Axes>"
      ]
     },
     "metadata": {
      "needs_background": "light"
     },
     "output_type": "display_data"
    }
   ],
   "source": [
    "mean=Data['Temperature'].mean()\n",
    "print('Mean: ',mean)\n",
    "plt.figure(figsize=(10,5)) # set the figure size\n",
    "plt.hist(Data['Temperature'],bins=100,color='lightblue') #Plot the histogram\n",
    "plt.axvline(mean,color='green',label='Mean') \n",
    "plt.xlabel('Temperature')   # label the x-axis\n",
    "plt.ylabel('Frequency')   # label the y-axis\n",
    "plt.legend()              # Plot the legend\n",
    "plt.show()"
   ]
  },
  {
   "cell_type": "code",
   "execution_count": 16,
   "id": "826bb4dd",
   "metadata": {},
   "outputs": [
    {
     "data": {
      "text/html": [
       "<div>\n",
       "<style scoped>\n",
       "    .dataframe tbody tr th:only-of-type {\n",
       "        vertical-align: middle;\n",
       "    }\n",
       "\n",
       "    .dataframe tbody tr th {\n",
       "        vertical-align: top;\n",
       "    }\n",
       "\n",
       "    .dataframe thead th {\n",
       "        text-align: right;\n",
       "    }\n",
       "</style>\n",
       "<table border=\"1\" class=\"dataframe\">\n",
       "  <thead>\n",
       "    <tr style=\"text-align: right;\">\n",
       "      <th></th>\n",
       "      <th>Date</th>\n",
       "      <th>Temperature</th>\n",
       "    </tr>\n",
       "    <tr>\n",
       "      <th>Season</th>\n",
       "      <th></th>\n",
       "      <th></th>\n",
       "    </tr>\n",
       "  </thead>\n",
       "  <tbody>\n",
       "    <tr>\n",
       "      <th>Rainy</th>\n",
       "      <td>15.754098</td>\n",
       "      <td>3.087705</td>\n",
       "    </tr>\n",
       "    <tr>\n",
       "      <th>Summer</th>\n",
       "      <td>15.525000</td>\n",
       "      <td>3.147500</td>\n",
       "    </tr>\n",
       "    <tr>\n",
       "      <th>Winter</th>\n",
       "      <td>15.878049</td>\n",
       "      <td>2.776423</td>\n",
       "    </tr>\n",
       "  </tbody>\n",
       "</table>\n",
       "</div>"
      ],
      "text/plain": [
       "             Date  Temperature\n",
       "Season                        \n",
       "Rainy   15.754098     3.087705\n",
       "Summer  15.525000     3.147500\n",
       "Winter  15.878049     2.776423"
      ]
     },
     "execution_count": 16,
     "metadata": {},
     "output_type": "execute_result"
    }
   ],
   "source": [
    "Data.groupby('Season').mean()"
   ]
  },
  {
   "cell_type": "code",
   "execution_count": 17,
   "id": "fd62d346",
   "metadata": {},
   "outputs": [
    {
     "name": "stdout",
     "output_type": "stream",
     "text": [
      "Data: 3.0024657534246546\n"
     ]
    }
   ],
   "source": [
    "print(\"Data:\",Data.Temperature.mean())"
   ]
  },
  {
   "cell_type": "code",
   "execution_count": 18,
   "id": "98f3aa2c",
   "metadata": {},
   "outputs": [
    {
     "name": "stdout",
     "output_type": "stream",
     "text": [
      "0.4658319416510761\n"
     ]
    }
   ],
   "source": [
    "print(Data.Temperature.std())"
   ]
  },
  {
   "cell_type": "markdown",
   "id": "b68843d0",
   "metadata": {},
   "source": [
    "# Probability"
   ]
  },
  {
   "cell_type": "code",
   "execution_count": 19,
   "id": "180e1e9b",
   "metadata": {},
   "outputs": [],
   "source": [
    "z1=(2-3.0024657534246546)/0.4658319416510761"
   ]
  },
  {
   "cell_type": "code",
   "execution_count": 20,
   "id": "6eb750fd",
   "metadata": {},
   "outputs": [
    {
     "data": {
      "text/plain": [
       "-2.151990157376403"
      ]
     },
     "execution_count": 20,
     "metadata": {},
     "output_type": "execute_result"
    }
   ],
   "source": [
    "z1"
   ]
  },
  {
   "cell_type": "code",
   "execution_count": 21,
   "id": "33123222",
   "metadata": {},
   "outputs": [
    {
     "data": {
      "text/plain": [
       "0.015699064791364483"
      ]
     },
     "execution_count": 21,
     "metadata": {},
     "output_type": "execute_result"
    }
   ],
   "source": [
    "stats.norm.cdf(-2.151990157376403)"
   ]
  },
  {
   "cell_type": "code",
   "execution_count": 22,
   "id": "b0cc0779",
   "metadata": {},
   "outputs": [],
   "source": [
    "z2=(4-3.0024657534246546)/0.4658319416510761"
   ]
  },
  {
   "cell_type": "code",
   "execution_count": 23,
   "id": "ec6c5474",
   "metadata": {},
   "outputs": [
    {
     "data": {
      "text/plain": [
       "2.141403706752536"
      ]
     },
     "execution_count": 23,
     "metadata": {},
     "output_type": "execute_result"
    }
   ],
   "source": [
    "z2"
   ]
  },
  {
   "cell_type": "code",
   "execution_count": 24,
   "id": "9634c6ba",
   "metadata": {},
   "outputs": [
    {
     "data": {
      "text/plain": [
       "0.01617738337216612"
      ]
     },
     "execution_count": 24,
     "metadata": {},
     "output_type": "execute_result"
    }
   ],
   "source": [
    "1 - stats.norm.cdf(2.14)"
   ]
  },
  {
   "cell_type": "code",
   "execution_count": 25,
   "id": "70e91531",
   "metadata": {},
   "outputs": [
    {
     "data": {
      "text/plain": [
       "0.03187644816353061"
      ]
     },
     "execution_count": 25,
     "metadata": {},
     "output_type": "execute_result"
    }
   ],
   "source": [
    "0.015699064791364483 + 0.01617738337216612"
   ]
  },
  {
   "cell_type": "markdown",
   "id": "8b09c352",
   "metadata": {},
   "source": [
    "# PART 2"
   ]
  },
  {
   "cell_type": "code",
   "execution_count": 26,
   "id": "fdea64a5",
   "metadata": {},
   "outputs": [
    {
     "data": {
      "text/html": [
       "<div>\n",
       "<style scoped>\n",
       "    .dataframe tbody tr th:only-of-type {\n",
       "        vertical-align: middle;\n",
       "    }\n",
       "\n",
       "    .dataframe tbody tr th {\n",
       "        vertical-align: top;\n",
       "    }\n",
       "\n",
       "    .dataframe thead th {\n",
       "        text-align: right;\n",
       "    }\n",
       "</style>\n",
       "<table border=\"1\" class=\"dataframe\">\n",
       "  <thead>\n",
       "    <tr style=\"text-align: right;\">\n",
       "      <th></th>\n",
       "      <th>Season</th>\n",
       "      <th>Month</th>\n",
       "      <th>Date</th>\n",
       "      <th>Temperature</th>\n",
       "    </tr>\n",
       "  </thead>\n",
       "  <tbody>\n",
       "    <tr>\n",
       "      <th>0</th>\n",
       "      <td>Summer</td>\n",
       "      <td>Feb</td>\n",
       "      <td>11</td>\n",
       "      <td>4.0</td>\n",
       "    </tr>\n",
       "    <tr>\n",
       "      <th>1</th>\n",
       "      <td>Summer</td>\n",
       "      <td>Feb</td>\n",
       "      <td>12</td>\n",
       "      <td>3.9</td>\n",
       "    </tr>\n",
       "    <tr>\n",
       "      <th>2</th>\n",
       "      <td>Summer</td>\n",
       "      <td>Feb</td>\n",
       "      <td>13</td>\n",
       "      <td>3.9</td>\n",
       "    </tr>\n",
       "    <tr>\n",
       "      <th>3</th>\n",
       "      <td>Summer</td>\n",
       "      <td>Feb</td>\n",
       "      <td>14</td>\n",
       "      <td>4.0</td>\n",
       "    </tr>\n",
       "    <tr>\n",
       "      <th>4</th>\n",
       "      <td>Summer</td>\n",
       "      <td>Feb</td>\n",
       "      <td>15</td>\n",
       "      <td>3.8</td>\n",
       "    </tr>\n",
       "  </tbody>\n",
       "</table>\n",
       "</div>"
      ],
      "text/plain": [
       "   Season Month  Date   Temperature \n",
       "0  Summer   Feb    11            4.0\n",
       "1  Summer   Feb    12            3.9\n",
       "2  Summer   Feb    13            3.9\n",
       "3  Summer   Feb    14            4.0\n",
       "4  Summer   Feb    15            3.8"
      ]
     },
     "execution_count": 26,
     "metadata": {},
     "output_type": "execute_result"
    }
   ],
   "source": [
    "data  = pd.read_csv('Cold_Storage_Mar2018_.csv') \n",
    "data.head() "
   ]
  },
  {
   "cell_type": "code",
   "execution_count": 27,
   "id": "7c8ab4a0",
   "metadata": {},
   "outputs": [
    {
     "data": {
      "text/plain": [
       "(35, 4)"
      ]
     },
     "execution_count": 27,
     "metadata": {},
     "output_type": "execute_result"
    }
   ],
   "source": [
    "data.shape"
   ]
  },
  {
   "cell_type": "code",
   "execution_count": 28,
   "id": "05cea27b",
   "metadata": {},
   "outputs": [
    {
     "name": "stdout",
     "output_type": "stream",
     "text": [
      "<class 'pandas.core.frame.DataFrame'>\n",
      "RangeIndex: 35 entries, 0 to 34\n",
      "Data columns (total 4 columns):\n",
      " #   Column         Non-Null Count  Dtype  \n",
      "---  ------         --------------  -----  \n",
      " 0   Season         35 non-null     object \n",
      " 1   Month          35 non-null     object \n",
      " 2   Date           35 non-null     int64  \n",
      " 3    Temperature   35 non-null     float64\n",
      "dtypes: float64(1), int64(1), object(2)\n",
      "memory usage: 1.2+ KB\n"
     ]
    }
   ],
   "source": [
    "data.info()"
   ]
  },
  {
   "cell_type": "code",
   "execution_count": 29,
   "id": "003e8c68",
   "metadata": {},
   "outputs": [
    {
     "data": {
      "text/plain": [
       "0"
      ]
     },
     "execution_count": 29,
     "metadata": {},
     "output_type": "execute_result"
    }
   ],
   "source": [
    "dupes = Data.duplicated()\n",
    "sum(dupes)"
   ]
  },
  {
   "cell_type": "code",
   "execution_count": 30,
   "id": "1b0a0f92",
   "metadata": {},
   "outputs": [],
   "source": [
    "data.columns=data.columns.str.strip()"
   ]
  },
  {
   "cell_type": "code",
   "execution_count": 31,
   "id": "67f316ae",
   "metadata": {},
   "outputs": [
    {
     "data": {
      "text/html": [
       "<div>\n",
       "<style scoped>\n",
       "    .dataframe tbody tr th:only-of-type {\n",
       "        vertical-align: middle;\n",
       "    }\n",
       "\n",
       "    .dataframe tbody tr th {\n",
       "        vertical-align: top;\n",
       "    }\n",
       "\n",
       "    .dataframe thead th {\n",
       "        text-align: right;\n",
       "    }\n",
       "</style>\n",
       "<table border=\"1\" class=\"dataframe\">\n",
       "  <thead>\n",
       "    <tr style=\"text-align: right;\">\n",
       "      <th></th>\n",
       "      <th>Date</th>\n",
       "      <th>Temperature</th>\n",
       "    </tr>\n",
       "  </thead>\n",
       "  <tbody>\n",
       "    <tr>\n",
       "      <th>count</th>\n",
       "      <td>35.000000</td>\n",
       "      <td>35.000000</td>\n",
       "    </tr>\n",
       "    <tr>\n",
       "      <th>mean</th>\n",
       "      <td>14.400000</td>\n",
       "      <td>3.974286</td>\n",
       "    </tr>\n",
       "    <tr>\n",
       "      <th>std</th>\n",
       "      <td>7.389181</td>\n",
       "      <td>0.159674</td>\n",
       "    </tr>\n",
       "    <tr>\n",
       "      <th>min</th>\n",
       "      <td>1.000000</td>\n",
       "      <td>3.800000</td>\n",
       "    </tr>\n",
       "    <tr>\n",
       "      <th>25%</th>\n",
       "      <td>9.500000</td>\n",
       "      <td>3.900000</td>\n",
       "    </tr>\n",
       "    <tr>\n",
       "      <th>50%</th>\n",
       "      <td>14.000000</td>\n",
       "      <td>3.900000</td>\n",
       "    </tr>\n",
       "    <tr>\n",
       "      <th>75%</th>\n",
       "      <td>19.500000</td>\n",
       "      <td>4.100000</td>\n",
       "    </tr>\n",
       "    <tr>\n",
       "      <th>max</th>\n",
       "      <td>28.000000</td>\n",
       "      <td>4.600000</td>\n",
       "    </tr>\n",
       "  </tbody>\n",
       "</table>\n",
       "</div>"
      ],
      "text/plain": [
       "            Date  Temperature\n",
       "count  35.000000    35.000000\n",
       "mean   14.400000     3.974286\n",
       "std     7.389181     0.159674\n",
       "min     1.000000     3.800000\n",
       "25%     9.500000     3.900000\n",
       "50%    14.000000     3.900000\n",
       "75%    19.500000     4.100000\n",
       "max    28.000000     4.600000"
      ]
     },
     "execution_count": 31,
     "metadata": {},
     "output_type": "execute_result"
    }
   ],
   "source": [
    "data.describe()"
   ]
  },
  {
   "cell_type": "markdown",
   "id": "34d7f234",
   "metadata": {},
   "source": [
    "# Hypothesis Testing(T-Test)"
   ]
  },
  {
   "cell_type": "markdown",
   "id": "99b9f403",
   "metadata": {},
   "source": [
    "Reason to choose T-test is,In one sample test, we compare the population parameter such as mean of a single sample of data collected from a single population."
   ]
  },
  {
   "cell_type": "code",
   "execution_count": 32,
   "id": "e3068562",
   "metadata": {},
   "outputs": [],
   "source": [
    "#perform the test\n"
   ]
  },
  {
   "cell_type": "code",
   "execution_count": 33,
   "id": "e11ee60d",
   "metadata": {},
   "outputs": [
    {
     "name": "stdout",
     "output_type": "stream",
     "text": [
      "The sample size for this problem is 35\n"
     ]
    }
   ],
   "source": [
    "print(\"The sample size for this problem is\",len(data))"
   ]
  },
  {
   "cell_type": "markdown",
   "id": "1604335b",
   "metadata": {},
   "source": [
    "We do not know the population standard deviation and n = 35. So we use the t distribution and the tSTAT test statistic."
   ]
  },
  {
   "cell_type": "markdown",
   "id": "7c00fe6e",
   "metadata": {},
   "source": [
    "Null and Alternative hypothesis\n",
    "\n",
    "Where temperature = 3.9 null hypothesis\n",
    "\n",
    "where temperature != 3.9 alternative hypothesis"
   ]
  },
  {
   "cell_type": "code",
   "execution_count": 34,
   "id": "ec34aac7",
   "metadata": {},
   "outputs": [
    {
     "name": "stdout",
     "output_type": "stream",
     "text": [
      "One sample t test \n",
      "t statistic: 2.752358609800241 p value: 0.009422395404264431 \n"
     ]
    }
   ],
   "source": [
    "# one sample t-test\n",
    "\n",
    "t_statistic, p_value = ttest_1samp(data.Temperature,3.9 )\n",
    "print('One sample t test \\nt statistic: {0} p value: {1} '.format(t_statistic, p_value))"
   ]
  },
  {
   "cell_type": "code",
   "execution_count": 35,
   "id": "99be04f8",
   "metadata": {
    "scrolled": false
   },
   "outputs": [
    {
     "name": "stdout",
     "output_type": "stream",
     "text": [
      "Level of significance: 0.01\n",
      "We have evidence to reject the null hypothesis since p value < Level of significance\n",
      "Our one-sample t-test p-value= 0.009422395404264431\n"
     ]
    }
   ],
   "source": [
    "# p_value < 0.01 => alternative hypothesis:\n",
    "\n",
    "alpha_value = 0.01 # Level of significance\n",
    "print('Level of significance: %.2f' %alpha_value)\n",
    "if p_value < alpha_value: \n",
    "    print('We have evidence to reject the null hypothesis since p value < Level of significance')\n",
    "else:\n",
    "    print('We have no evidence to reject the null hypothesis since p value > Level of significance') \n",
    "\n",
    "print (\"Our one-sample t-test p-value=\", p_value)"
   ]
  },
  {
   "cell_type": "markdown",
   "id": "cd65246b",
   "metadata": {},
   "source": [
    "# Part II – Inferential Statistics"
   ]
  },
  {
   "cell_type": "code",
   "execution_count": 114,
   "id": "063bfa88",
   "metadata": {},
   "outputs": [
    {
     "data": {
      "text/html": [
       "<div>\n",
       "<style scoped>\n",
       "    .dataframe tbody tr th:only-of-type {\n",
       "        vertical-align: middle;\n",
       "    }\n",
       "\n",
       "    .dataframe tbody tr th {\n",
       "        vertical-align: top;\n",
       "    }\n",
       "\n",
       "    .dataframe thead th {\n",
       "        text-align: right;\n",
       "    }\n",
       "</style>\n",
       "<table border=\"1\" class=\"dataframe\">\n",
       "  <thead>\n",
       "    <tr style=\"text-align: right;\">\n",
       "      <th></th>\n",
       "      <th>Unnamed: 0</th>\n",
       "      <th>sales</th>\n",
       "      <th>capital</th>\n",
       "      <th>patents</th>\n",
       "      <th>randd</th>\n",
       "      <th>employment</th>\n",
       "      <th>sp500</th>\n",
       "      <th>tobinq</th>\n",
       "      <th>value</th>\n",
       "      <th>institutions</th>\n",
       "    </tr>\n",
       "  </thead>\n",
       "  <tbody>\n",
       "    <tr>\n",
       "      <th>0</th>\n",
       "      <td>0</td>\n",
       "      <td>826.995050</td>\n",
       "      <td>161.603986</td>\n",
       "      <td>10</td>\n",
       "      <td>382.078247</td>\n",
       "      <td>2.306000</td>\n",
       "      <td>no</td>\n",
       "      <td>11.049511</td>\n",
       "      <td>1625.453755</td>\n",
       "      <td>80.27</td>\n",
       "    </tr>\n",
       "    <tr>\n",
       "      <th>1</th>\n",
       "      <td>1</td>\n",
       "      <td>407.753973</td>\n",
       "      <td>122.101012</td>\n",
       "      <td>2</td>\n",
       "      <td>0.000000</td>\n",
       "      <td>1.860000</td>\n",
       "      <td>no</td>\n",
       "      <td>0.844187</td>\n",
       "      <td>243.117082</td>\n",
       "      <td>59.02</td>\n",
       "    </tr>\n",
       "    <tr>\n",
       "      <th>2</th>\n",
       "      <td>2</td>\n",
       "      <td>8407.845588</td>\n",
       "      <td>6221.144614</td>\n",
       "      <td>138</td>\n",
       "      <td>3296.700439</td>\n",
       "      <td>49.659005</td>\n",
       "      <td>yes</td>\n",
       "      <td>5.205257</td>\n",
       "      <td>25865.233800</td>\n",
       "      <td>47.70</td>\n",
       "    </tr>\n",
       "    <tr>\n",
       "      <th>3</th>\n",
       "      <td>3</td>\n",
       "      <td>451.000010</td>\n",
       "      <td>266.899987</td>\n",
       "      <td>1</td>\n",
       "      <td>83.540161</td>\n",
       "      <td>3.071000</td>\n",
       "      <td>no</td>\n",
       "      <td>0.305221</td>\n",
       "      <td>63.024630</td>\n",
       "      <td>26.88</td>\n",
       "    </tr>\n",
       "    <tr>\n",
       "      <th>4</th>\n",
       "      <td>4</td>\n",
       "      <td>174.927981</td>\n",
       "      <td>140.124004</td>\n",
       "      <td>2</td>\n",
       "      <td>14.233637</td>\n",
       "      <td>1.947000</td>\n",
       "      <td>no</td>\n",
       "      <td>1.063300</td>\n",
       "      <td>67.406408</td>\n",
       "      <td>49.46</td>\n",
       "    </tr>\n",
       "  </tbody>\n",
       "</table>\n",
       "</div>"
      ],
      "text/plain": [
       "   Unnamed: 0        sales      capital  patents        randd  employment  \\\n",
       "0           0   826.995050   161.603986       10   382.078247    2.306000   \n",
       "1           1   407.753973   122.101012        2     0.000000    1.860000   \n",
       "2           2  8407.845588  6221.144614      138  3296.700439   49.659005   \n",
       "3           3   451.000010   266.899987        1    83.540161    3.071000   \n",
       "4           4   174.927981   140.124004        2    14.233637    1.947000   \n",
       "\n",
       "  sp500     tobinq         value  institutions  \n",
       "0    no  11.049511   1625.453755         80.27  \n",
       "1    no   0.844187    243.117082         59.02  \n",
       "2   yes   5.205257  25865.233800         47.70  \n",
       "3    no   0.305221     63.024630         26.88  \n",
       "4    no   1.063300     67.406408         49.46  "
      ]
     },
     "execution_count": 114,
     "metadata": {},
     "output_type": "execute_result"
    }
   ],
   "source": [
    "mydata  = pd.read_csv('Firm_Level_Data.csv') \n",
    "mydata.head() "
   ]
  },
  {
   "cell_type": "code",
   "execution_count": 37,
   "id": "80331ba0",
   "metadata": {},
   "outputs": [
    {
     "data": {
      "text/plain": [
       "(759, 10)"
      ]
     },
     "execution_count": 37,
     "metadata": {},
     "output_type": "execute_result"
    }
   ],
   "source": [
    "mydata.shape"
   ]
  },
  {
   "cell_type": "code",
   "execution_count": 38,
   "id": "8668a3b4",
   "metadata": {},
   "outputs": [
    {
     "name": "stdout",
     "output_type": "stream",
     "text": [
      "<class 'pandas.core.frame.DataFrame'>\n",
      "RangeIndex: 759 entries, 0 to 758\n",
      "Data columns (total 10 columns):\n",
      " #   Column        Non-Null Count  Dtype  \n",
      "---  ------        --------------  -----  \n",
      " 0   Unnamed: 0    759 non-null    int64  \n",
      " 1   sales         759 non-null    float64\n",
      " 2   capital       759 non-null    float64\n",
      " 3   patents       759 non-null    int64  \n",
      " 4   randd         759 non-null    float64\n",
      " 5   employment    759 non-null    float64\n",
      " 6   sp500         759 non-null    object \n",
      " 7   tobinq        738 non-null    float64\n",
      " 8   value         759 non-null    float64\n",
      " 9   institutions  759 non-null    float64\n",
      "dtypes: float64(7), int64(2), object(1)\n",
      "memory usage: 59.4+ KB\n"
     ]
    }
   ],
   "source": [
    "mydata.info()"
   ]
  },
  {
   "cell_type": "code",
   "execution_count": 39,
   "id": "b1cc969b",
   "metadata": {},
   "outputs": [
    {
     "data": {
      "text/html": [
       "<div>\n",
       "<style scoped>\n",
       "    .dataframe tbody tr th:only-of-type {\n",
       "        vertical-align: middle;\n",
       "    }\n",
       "\n",
       "    .dataframe tbody tr th {\n",
       "        vertical-align: top;\n",
       "    }\n",
       "\n",
       "    .dataframe thead th {\n",
       "        text-align: right;\n",
       "    }\n",
       "</style>\n",
       "<table border=\"1\" class=\"dataframe\">\n",
       "  <thead>\n",
       "    <tr style=\"text-align: right;\">\n",
       "      <th></th>\n",
       "      <th>Unnamed: 0</th>\n",
       "      <th>sales</th>\n",
       "      <th>capital</th>\n",
       "      <th>patents</th>\n",
       "      <th>randd</th>\n",
       "      <th>employment</th>\n",
       "      <th>tobinq</th>\n",
       "      <th>value</th>\n",
       "      <th>institutions</th>\n",
       "    </tr>\n",
       "  </thead>\n",
       "  <tbody>\n",
       "    <tr>\n",
       "      <th>count</th>\n",
       "      <td>759.000000</td>\n",
       "      <td>759.000000</td>\n",
       "      <td>759.000000</td>\n",
       "      <td>759.000000</td>\n",
       "      <td>759.000000</td>\n",
       "      <td>759.000000</td>\n",
       "      <td>738.000000</td>\n",
       "      <td>759.000000</td>\n",
       "      <td>759.000000</td>\n",
       "    </tr>\n",
       "    <tr>\n",
       "      <th>mean</th>\n",
       "      <td>379.000000</td>\n",
       "      <td>2689.705158</td>\n",
       "      <td>1977.747498</td>\n",
       "      <td>25.831357</td>\n",
       "      <td>439.938074</td>\n",
       "      <td>14.164519</td>\n",
       "      <td>2.794910</td>\n",
       "      <td>2732.734750</td>\n",
       "      <td>43.020540</td>\n",
       "    </tr>\n",
       "    <tr>\n",
       "      <th>std</th>\n",
       "      <td>219.248717</td>\n",
       "      <td>8722.060124</td>\n",
       "      <td>6466.704896</td>\n",
       "      <td>97.259577</td>\n",
       "      <td>2007.397588</td>\n",
       "      <td>43.321443</td>\n",
       "      <td>3.366591</td>\n",
       "      <td>7071.072362</td>\n",
       "      <td>21.685586</td>\n",
       "    </tr>\n",
       "    <tr>\n",
       "      <th>min</th>\n",
       "      <td>0.000000</td>\n",
       "      <td>0.138000</td>\n",
       "      <td>0.057000</td>\n",
       "      <td>0.000000</td>\n",
       "      <td>0.000000</td>\n",
       "      <td>0.006000</td>\n",
       "      <td>0.119001</td>\n",
       "      <td>1.971053</td>\n",
       "      <td>0.000000</td>\n",
       "    </tr>\n",
       "    <tr>\n",
       "      <th>25%</th>\n",
       "      <td>189.500000</td>\n",
       "      <td>122.920000</td>\n",
       "      <td>52.650501</td>\n",
       "      <td>1.000000</td>\n",
       "      <td>4.628262</td>\n",
       "      <td>0.927500</td>\n",
       "      <td>1.018783</td>\n",
       "      <td>103.593946</td>\n",
       "      <td>25.395000</td>\n",
       "    </tr>\n",
       "    <tr>\n",
       "      <th>50%</th>\n",
       "      <td>379.000000</td>\n",
       "      <td>448.577082</td>\n",
       "      <td>202.179023</td>\n",
       "      <td>3.000000</td>\n",
       "      <td>36.864136</td>\n",
       "      <td>2.924000</td>\n",
       "      <td>1.680303</td>\n",
       "      <td>410.793529</td>\n",
       "      <td>44.110000</td>\n",
       "    </tr>\n",
       "    <tr>\n",
       "      <th>75%</th>\n",
       "      <td>568.500000</td>\n",
       "      <td>1822.547366</td>\n",
       "      <td>1075.790020</td>\n",
       "      <td>11.500000</td>\n",
       "      <td>143.253403</td>\n",
       "      <td>10.050001</td>\n",
       "      <td>3.139309</td>\n",
       "      <td>2054.160386</td>\n",
       "      <td>60.510000</td>\n",
       "    </tr>\n",
       "    <tr>\n",
       "      <th>max</th>\n",
       "      <td>758.000000</td>\n",
       "      <td>135696.788200</td>\n",
       "      <td>93625.200560</td>\n",
       "      <td>1220.000000</td>\n",
       "      <td>30425.255860</td>\n",
       "      <td>710.799925</td>\n",
       "      <td>20.000000</td>\n",
       "      <td>95191.591160</td>\n",
       "      <td>90.150000</td>\n",
       "    </tr>\n",
       "  </tbody>\n",
       "</table>\n",
       "</div>"
      ],
      "text/plain": [
       "       Unnamed: 0          sales       capital      patents         randd  \\\n",
       "count  759.000000     759.000000    759.000000   759.000000    759.000000   \n",
       "mean   379.000000    2689.705158   1977.747498    25.831357    439.938074   \n",
       "std    219.248717    8722.060124   6466.704896    97.259577   2007.397588   \n",
       "min      0.000000       0.138000      0.057000     0.000000      0.000000   \n",
       "25%    189.500000     122.920000     52.650501     1.000000      4.628262   \n",
       "50%    379.000000     448.577082    202.179023     3.000000     36.864136   \n",
       "75%    568.500000    1822.547366   1075.790020    11.500000    143.253403   \n",
       "max    758.000000  135696.788200  93625.200560  1220.000000  30425.255860   \n",
       "\n",
       "       employment      tobinq         value  institutions  \n",
       "count  759.000000  738.000000    759.000000    759.000000  \n",
       "mean    14.164519    2.794910   2732.734750     43.020540  \n",
       "std     43.321443    3.366591   7071.072362     21.685586  \n",
       "min      0.006000    0.119001      1.971053      0.000000  \n",
       "25%      0.927500    1.018783    103.593946     25.395000  \n",
       "50%      2.924000    1.680303    410.793529     44.110000  \n",
       "75%     10.050001    3.139309   2054.160386     60.510000  \n",
       "max    710.799925   20.000000  95191.591160     90.150000  "
      ]
     },
     "execution_count": 39,
     "metadata": {},
     "output_type": "execute_result"
    }
   ],
   "source": [
    "mydata.describe()"
   ]
  },
  {
   "cell_type": "code",
   "execution_count": 40,
   "id": "01d82d08",
   "metadata": {},
   "outputs": [
    {
     "data": {
      "text/plain": [
       "0"
      ]
     },
     "execution_count": 40,
     "metadata": {},
     "output_type": "execute_result"
    }
   ],
   "source": [
    "dupes = mydata.duplicated()\n",
    "sum(dupes)"
   ]
  },
  {
   "cell_type": "code",
   "execution_count": 41,
   "id": "62fb72a4",
   "metadata": {},
   "outputs": [
    {
     "data": {
      "text/plain": [
       "True"
      ]
     },
     "execution_count": 41,
     "metadata": {},
     "output_type": "execute_result"
    }
   ],
   "source": [
    "mydata.isnull().values.any() "
   ]
  },
  {
   "cell_type": "code",
   "execution_count": 42,
   "id": "45fc8fe3",
   "metadata": {},
   "outputs": [
    {
     "data": {
      "text/plain": [
       "21"
      ]
     },
     "execution_count": 42,
     "metadata": {},
     "output_type": "execute_result"
    }
   ],
   "source": [
    "mydata.isnull().sum().sum()"
   ]
  },
  {
   "cell_type": "code",
   "execution_count": 43,
   "id": "6f03680f",
   "metadata": {},
   "outputs": [
    {
     "data": {
      "text/html": [
       "<div>\n",
       "<style scoped>\n",
       "    .dataframe tbody tr th:only-of-type {\n",
       "        vertical-align: middle;\n",
       "    }\n",
       "\n",
       "    .dataframe tbody tr th {\n",
       "        vertical-align: top;\n",
       "    }\n",
       "\n",
       "    .dataframe thead th {\n",
       "        text-align: right;\n",
       "    }\n",
       "</style>\n",
       "<table border=\"1\" class=\"dataframe\">\n",
       "  <thead>\n",
       "    <tr style=\"text-align: right;\">\n",
       "      <th></th>\n",
       "      <th>Number of missing values</th>\n",
       "    </tr>\n",
       "  </thead>\n",
       "  <tbody>\n",
       "    <tr>\n",
       "      <th>Unnamed: 0</th>\n",
       "      <td>0</td>\n",
       "    </tr>\n",
       "    <tr>\n",
       "      <th>sales</th>\n",
       "      <td>0</td>\n",
       "    </tr>\n",
       "    <tr>\n",
       "      <th>capital</th>\n",
       "      <td>0</td>\n",
       "    </tr>\n",
       "    <tr>\n",
       "      <th>patents</th>\n",
       "      <td>0</td>\n",
       "    </tr>\n",
       "    <tr>\n",
       "      <th>randd</th>\n",
       "      <td>0</td>\n",
       "    </tr>\n",
       "    <tr>\n",
       "      <th>employment</th>\n",
       "      <td>0</td>\n",
       "    </tr>\n",
       "    <tr>\n",
       "      <th>sp500</th>\n",
       "      <td>0</td>\n",
       "    </tr>\n",
       "    <tr>\n",
       "      <th>tobinq</th>\n",
       "      <td>21</td>\n",
       "    </tr>\n",
       "    <tr>\n",
       "      <th>value</th>\n",
       "      <td>0</td>\n",
       "    </tr>\n",
       "    <tr>\n",
       "      <th>institutions</th>\n",
       "      <td>0</td>\n",
       "    </tr>\n",
       "  </tbody>\n",
       "</table>\n",
       "</div>"
      ],
      "text/plain": [
       "              Number of missing values\n",
       "Unnamed: 0                           0\n",
       "sales                                0\n",
       "capital                              0\n",
       "patents                              0\n",
       "randd                                0\n",
       "employment                           0\n",
       "sp500                                0\n",
       "tobinq                              21\n",
       "value                                0\n",
       "institutions                         0"
      ]
     },
     "execution_count": 43,
     "metadata": {},
     "output_type": "execute_result"
    }
   ],
   "source": [
    "# number of missing values (only the ones recognised as missing values) in each of the attributes\n",
    "pd.DataFrame( mydata.isnull().sum(), columns= ['Number of missing values'])"
   ]
  },
  {
   "cell_type": "code",
   "execution_count": 44,
   "id": "d32b4c1e",
   "metadata": {},
   "outputs": [
    {
     "data": {
      "text/html": [
       "<div>\n",
       "<style scoped>\n",
       "    .dataframe tbody tr th:only-of-type {\n",
       "        vertical-align: middle;\n",
       "    }\n",
       "\n",
       "    .dataframe tbody tr th {\n",
       "        vertical-align: top;\n",
       "    }\n",
       "\n",
       "    .dataframe thead th {\n",
       "        text-align: right;\n",
       "    }\n",
       "</style>\n",
       "<table border=\"1\" class=\"dataframe\">\n",
       "  <thead>\n",
       "    <tr style=\"text-align: right;\">\n",
       "      <th></th>\n",
       "      <th>value</th>\n",
       "      <th>Missing?</th>\n",
       "    </tr>\n",
       "  </thead>\n",
       "  <tbody>\n",
       "    <tr>\n",
       "      <th>0</th>\n",
       "      <td>11.049511</td>\n",
       "      <td>False</td>\n",
       "    </tr>\n",
       "    <tr>\n",
       "      <th>1</th>\n",
       "      <td>0.844187</td>\n",
       "      <td>False</td>\n",
       "    </tr>\n",
       "    <tr>\n",
       "      <th>2</th>\n",
       "      <td>5.205257</td>\n",
       "      <td>False</td>\n",
       "    </tr>\n",
       "    <tr>\n",
       "      <th>3</th>\n",
       "      <td>0.305221</td>\n",
       "      <td>False</td>\n",
       "    </tr>\n",
       "    <tr>\n",
       "      <th>4</th>\n",
       "      <td>1.063300</td>\n",
       "      <td>False</td>\n",
       "    </tr>\n",
       "    <tr>\n",
       "      <th>...</th>\n",
       "      <td>...</td>\n",
       "      <td>...</td>\n",
       "    </tr>\n",
       "    <tr>\n",
       "      <th>754</th>\n",
       "      <td>0.697454</td>\n",
       "      <td>False</td>\n",
       "    </tr>\n",
       "    <tr>\n",
       "      <th>755</th>\n",
       "      <td>NaN</td>\n",
       "      <td>True</td>\n",
       "    </tr>\n",
       "    <tr>\n",
       "      <th>756</th>\n",
       "      <td>5.229723</td>\n",
       "      <td>False</td>\n",
       "    </tr>\n",
       "    <tr>\n",
       "      <th>757</th>\n",
       "      <td>1.625398</td>\n",
       "      <td>False</td>\n",
       "    </tr>\n",
       "    <tr>\n",
       "      <th>758</th>\n",
       "      <td>2.213070</td>\n",
       "      <td>False</td>\n",
       "    </tr>\n",
       "  </tbody>\n",
       "</table>\n",
       "<p>759 rows × 2 columns</p>\n",
       "</div>"
      ],
      "text/plain": [
       "         value  Missing?\n",
       "0    11.049511     False\n",
       "1     0.844187     False\n",
       "2     5.205257     False\n",
       "3     0.305221     False\n",
       "4     1.063300     False\n",
       "..         ...       ...\n",
       "754   0.697454     False\n",
       "755        NaN      True\n",
       "756   5.229723     False\n",
       "757   1.625398     False\n",
       "758   2.213070     False\n",
       "\n",
       "[759 rows x 2 columns]"
      ]
     },
     "execution_count": 44,
     "metadata": {},
     "output_type": "execute_result"
    }
   ],
   "source": [
    "pd.DataFrame({'value': mydata['tobinq'], 'Missing?': mydata['tobinq'].isnull()})"
   ]
  },
  {
   "cell_type": "markdown",
   "id": "0f31cb70",
   "metadata": {},
   "source": [
    "#  Univariate Analysis"
   ]
  },
  {
   "cell_type": "code",
   "execution_count": 45,
   "id": "6e682864",
   "metadata": {},
   "outputs": [
    {
     "data": {
      "text/plain": [
       "<AxesSubplot:>"
      ]
     },
     "execution_count": 45,
     "metadata": {},
     "output_type": "execute_result"
    },
    {
     "data": {
      "image/png": "[encoded data removed]",
      "text/plain": [
       "<Figure size 432x288 with 1 Axes>"
      ]
     },
     "metadata": {
      "needs_background": "light"
     },
     "output_type": "display_data"
    }
   ],
   "source": [
    "mydata.boxplot()"
   ]
  },
  {
   "cell_type": "code",
   "execution_count": 116,
   "id": "57f6f46d",
   "metadata": {},
   "outputs": [
    {
     "name": "stdout",
     "output_type": "stream",
     "text": [
      "['Unnamed: 0', 'sales', 'capital', 'patents', 'randd', 'employment', 'tobinq', 'value', 'institutions']\n",
      "['sp500']\n"
     ]
    }
   ],
   "source": [
    "nums = []\n",
    "cats = []\n",
    "for i in mydata.columns:\n",
    "    if mydata[i].dtype !='O':\n",
    "        nums.append(i)\n",
    "    else:\n",
    "        cats.append(i)\n",
    "print(nums)\n",
    "print(cats)"
   ]
  },
  {
   "cell_type": "code",
   "execution_count": 47,
   "id": "ab1bd0fc",
   "metadata": {},
   "outputs": [
    {
     "data": {
      "image/png": "[encoded data removed]",
      "text/plain": [
       "<Figure size 360x720 with 1 Axes>"
      ]
     },
     "metadata": {
      "needs_background": "light"
     },
     "output_type": "display_data"
    },
    {
     "data": {
      "image/png": "[encoded data removed]",
      "text/plain": [
       "<Figure size 360x720 with 1 Axes>"
      ]
     },
     "metadata": {
      "needs_background": "light"
     },
     "output_type": "display_data"
    },
    {
     "data": {
      "image/png": "[encoded data removed]",
      "text/plain": [
       "<Figure size 360x720 with 1 Axes>"
      ]
     },
     "metadata": {
      "needs_background": "light"
     },
     "output_type": "display_data"
    },
    {
     "data": {
      "image/png": "[encoded data removed]",
      "text/plain": [
       "<Figure size 360x720 with 1 Axes>"
      ]
     },
     "metadata": {
      "needs_background": "light"
     },
     "output_type": "display_data"
    },
    {
     "data": {
      "image/png": "[encoded data removed]",
      "text/plain": [
       "<Figure size 360x720 with 1 Axes>"
      ]
     },
     "metadata": {
      "needs_background": "light"
     },
     "output_type": "display_data"
    },
    {
     "data": {
      "image/png": "[encoded data removed]",
      "text/plain": [
       "<Figure size 360x720 with 1 Axes>"
      ]
     },
     "metadata": {
      "needs_background": "light"
     },
     "output_type": "display_data"
    },
    {
     "data": {
      "image/png": "[encoded data removed]",
      "text/plain": [
       "<Figure size 360x720 with 1 Axes>"
      ]
     },
     "metadata": {
      "needs_background": "light"
     },
     "output_type": "display_data"
    },
    {
     "data": {
      "image/png": "[encoded data removed]",
      "text/plain": [
       "<Figure size 360x720 with 1 Axes>"
      ]
     },
     "metadata": {
      "needs_background": "light"
     },
     "output_type": "display_data"
    },
    {
     "data": {
      "image/png": "[encoded data removed]",
      "text/plain": [
       "<Figure size 360x720 with 1 Axes>"
      ]
     },
     "metadata": {
      "needs_background": "light"
     },
     "output_type": "display_data"
    }
   ],
   "source": [
    "for x in nums:\n",
    "    plt.figure(figsize=(5,10))\n",
    "    sns.boxplot(mydata[x])\n",
    "    plt.show()"
   ]
  },
  {
   "cell_type": "code",
   "execution_count": 48,
   "id": "96e23dec",
   "metadata": {},
   "outputs": [
    {
     "data": {
      "text/plain": [
       "array([[<AxesSubplot:title={'center':'Unnamed: 0'}>,\n",
       "        <AxesSubplot:title={'center':'sales'}>,\n",
       "        <AxesSubplot:title={'center':'capital'}>],\n",
       "       [<AxesSubplot:title={'center':'patents'}>,\n",
       "        <AxesSubplot:title={'center':'randd'}>,\n",
       "        <AxesSubplot:title={'center':'employment'}>],\n",
       "       [<AxesSubplot:title={'center':'tobinq'}>,\n",
       "        <AxesSubplot:title={'center':'value'}>,\n",
       "        <AxesSubplot:title={'center':'institutions'}>]], dtype=object)"
      ]
     },
     "execution_count": 48,
     "metadata": {},
     "output_type": "execute_result"
    },
    {
     "data": {
      "text/plain": [
       "<Figure size 432x288 with 0 Axes>"
      ]
     },
     "metadata": {},
     "output_type": "display_data"
    },
    {
     "data": {
      "image/png": "[encoded data removed]",
      "text/plain": [
       "<Figure size 1080x1080 with 9 Axes>"
      ]
     },
     "metadata": {
      "needs_background": "light"
     },
     "output_type": "display_data"
    }
   ],
   "source": [
    "plt.figure()\n",
    "mydata.hist(figsize=(15,15))"
   ]
  },
  {
   "cell_type": "code",
   "execution_count": 49,
   "id": "40a48d37",
   "metadata": {},
   "outputs": [
    {
     "data": {
      "image/png": "[encoded data removed]",
      "text/plain": [
       "<Figure size 432x288 with 1 Axes>"
      ]
     },
     "metadata": {
      "needs_background": "light"
     },
     "output_type": "display_data"
    }
   ],
   "source": [
    "axw = sns.countplot(x='sp500', data=mydata)"
   ]
  },
  {
   "cell_type": "markdown",
   "id": "5323c281",
   "metadata": {},
   "source": [
    "# Bivariate analysis"
   ]
  },
  {
   "cell_type": "code",
   "execution_count": 120,
   "id": "689140ba",
   "metadata": {},
   "outputs": [
    {
     "name": "stdout",
     "output_type": "stream",
     "text": [
      "\u001b[1m\n",
      " Bivariate Analysis usr Vs Unnamed: 0\n"
     ]
    },
    {
     "data": {
      "image/png": "[encoded data removed]",
      "text/plain": [
       "<Figure size 1008x720 with 1 Axes>"
      ]
     },
     "metadata": {},
     "output_type": "display_data"
    },
    {
     "name": "stdout",
     "output_type": "stream",
     "text": [
      "Maximum value of sales is  22.70199882 when  Unnamed: 0  has maximum value of 758\n",
      "\u001b[1m\n",
      " Bivariate Analysis usr Vs sales\n"
     ]
    },
    {
     "data": {
      "image/png": "[encoded data removed]",
      "text/plain": [
       "<Figure size 1008x720 with 1 Axes>"
      ]
     },
     "metadata": {},
     "output_type": "display_data"
    },
    {
     "name": "stdout",
     "output_type": "stream",
     "text": [
      "Maximum value of sales is  135696.7882 when  sales  has maximum value of 135696.7882\n",
      "\u001b[1m\n",
      " Bivariate Analysis usr Vs capital\n"
     ]
    },
    {
     "data": {
      "image/png": "[encoded data removed]",
      "text/plain": [
       "<Figure size 1008x720 with 1 Axes>"
      ]
     },
     "metadata": {},
     "output_type": "display_data"
    },
    {
     "name": "stdout",
     "output_type": "stream",
     "text": [
      "Maximum value of sales is  135696.7882 when  capital  has maximum value of 93625.20056\n",
      "\u001b[1m\n",
      " Bivariate Analysis usr Vs patents\n"
     ]
    },
    {
     "data": {
      "image/png": "[encoded data removed]",
      "text/plain": [
       "<Figure size 1008x720 with 1 Axes>"
      ]
     },
     "metadata": {},
     "output_type": "display_data"
    },
    {
     "name": "stdout",
     "output_type": "stream",
     "text": [
      "Maximum value of sales is  62715.97381 when  patents  has maximum value of 1220\n",
      "\u001b[1m\n",
      " Bivariate Analysis usr Vs randd\n"
     ]
    },
    {
     "data": {
      "image/png": "[encoded data removed]",
      "text/plain": [
       "<Figure size 1008x720 with 1 Axes>"
      ]
     },
     "metadata": {},
     "output_type": "display_data"
    },
    {
     "name": "stdout",
     "output_type": "stream",
     "text": [
      "Maximum value of sales is  135696.7882 when  randd  has maximum value of 30425.25586\n",
      "\u001b[1m\n",
      " Bivariate Analysis usr Vs employment\n"
     ]
    },
    {
     "data": {
      "image/png": "[encoded data removed]",
      "text/plain": [
       "<Figure size 1008x720 with 1 Axes>"
      ]
     },
     "metadata": {},
     "output_type": "display_data"
    },
    {
     "name": "stdout",
     "output_type": "stream",
     "text": [
      "Maximum value of sales is  135696.7882 when  employment  has maximum value of 710.7999253\n",
      "\u001b[1m\n",
      " Bivariate Analysis usr Vs sp500\n"
     ]
    },
    {
     "data": {
      "image/png": "[encoded data removed]",
      "text/plain": [
       "<Figure size 1008x720 with 1 Axes>"
      ]
     },
     "metadata": {},
     "output_type": "display_data"
    },
    {
     "ename": "TypeError",
     "evalue": "reduction operation 'argmax' not allowed for this dtype",
     "output_type": "error",
     "traceback": [
      "\u001b[1;31m---------------------------------------------------------------------------\u001b[0m",
      "\u001b[1;31mTypeError\u001b[0m                                 Traceback (most recent call last)",
      "\u001b[1;32mC:\\Users\\PRIYAL~1.PAN\\AppData\\Local\\Temp/ipykernel_21028/712913802.py\u001b[0m in \u001b[0;36m<module>\u001b[1;34m\u001b[0m\n\u001b[0;32m      5\u001b[0m     \u001b[0msns\u001b[0m\u001b[1;33m.\u001b[0m\u001b[0mscatterplot\u001b[0m\u001b[1;33m(\u001b[0m\u001b[0mx\u001b[0m\u001b[1;33m,\u001b[0m \u001b[0mmydata\u001b[0m\u001b[1;33m[\u001b[0m\u001b[0mmydata\u001b[0m\u001b[1;33m.\u001b[0m\u001b[0mcolumns\u001b[0m\u001b[1;33m[\u001b[0m\u001b[0mi\u001b[0m\u001b[1;33m]\u001b[0m\u001b[1;33m]\u001b[0m\u001b[1;33m)\u001b[0m\u001b[1;33m\u001b[0m\u001b[1;33m\u001b[0m\u001b[0m\n\u001b[0;32m      6\u001b[0m     \u001b[0mplt\u001b[0m\u001b[1;33m.\u001b[0m\u001b[0mshow\u001b[0m\u001b[1;33m(\u001b[0m\u001b[1;33m)\u001b[0m\u001b[1;33m\u001b[0m\u001b[1;33m\u001b[0m\u001b[0m\n\u001b[1;32m----> 7\u001b[1;33m     \u001b[0mdf1\u001b[0m\u001b[1;33m=\u001b[0m\u001b[0mmydata\u001b[0m\u001b[1;33m.\u001b[0m\u001b[0mloc\u001b[0m\u001b[1;33m[\u001b[0m\u001b[0mmydata\u001b[0m\u001b[1;33m[\u001b[0m\u001b[0mmydata\u001b[0m\u001b[1;33m.\u001b[0m\u001b[0mcolumns\u001b[0m\u001b[1;33m[\u001b[0m\u001b[0mi\u001b[0m\u001b[1;33m]\u001b[0m\u001b[1;33m]\u001b[0m\u001b[1;33m.\u001b[0m\u001b[0midxmax\u001b[0m\u001b[1;33m(\u001b[0m\u001b[1;33m)\u001b[0m\u001b[1;33m]\u001b[0m\u001b[1;33m\u001b[0m\u001b[1;33m\u001b[0m\u001b[0m\n\u001b[0m\u001b[0;32m      8\u001b[0m     \u001b[0mdf1\u001b[0m\u001b[1;33m=\u001b[0m\u001b[0mdf1\u001b[0m\u001b[1;33m[\u001b[0m\u001b[1;34m\"sales\"\u001b[0m\u001b[1;33m]\u001b[0m\u001b[1;33m\u001b[0m\u001b[1;33m\u001b[0m\u001b[0m\n\u001b[0;32m      9\u001b[0m     \u001b[0mprint\u001b[0m\u001b[1;33m(\u001b[0m\u001b[1;34m\"Maximum value of sales is \"\u001b[0m\u001b[1;33m,\u001b[0m\u001b[0mdf1\u001b[0m\u001b[1;33m,\u001b[0m\u001b[1;34m\"when \"\u001b[0m\u001b[1;33m,\u001b[0m\u001b[0mmydata\u001b[0m\u001b[1;33m.\u001b[0m\u001b[0mcolumns\u001b[0m\u001b[1;33m[\u001b[0m\u001b[0mi\u001b[0m\u001b[1;33m]\u001b[0m\u001b[1;33m,\u001b[0m\u001b[1;34m\" has maximum value of\"\u001b[0m\u001b[1;33m,\u001b[0m\u001b[0mnp\u001b[0m\u001b[1;33m.\u001b[0m\u001b[0mmax\u001b[0m\u001b[1;33m(\u001b[0m\u001b[0mmydata\u001b[0m\u001b[1;33m[\u001b[0m\u001b[0mmydata\u001b[0m\u001b[1;33m.\u001b[0m\u001b[0mcolumns\u001b[0m\u001b[1;33m[\u001b[0m\u001b[0mi\u001b[0m\u001b[1;33m]\u001b[0m\u001b[1;33m]\u001b[0m\u001b[1;33m)\u001b[0m\u001b[1;33m)\u001b[0m\u001b[1;33m\u001b[0m\u001b[1;33m\u001b[0m\u001b[0m\n",
      "\u001b[1;32mC:\\ProgramData\\Anaconda3\\lib\\site-packages\\pandas\\core\\series.py\u001b[0m in \u001b[0;36midxmax\u001b[1;34m(self, axis, skipna, *args, **kwargs)\u001b[0m\n\u001b[0;32m   2353\u001b[0m         \u001b[0mnan\u001b[0m\u001b[1;33m\u001b[0m\u001b[1;33m\u001b[0m\u001b[0m\n\u001b[0;32m   2354\u001b[0m         \"\"\"\n\u001b[1;32m-> 2355\u001b[1;33m         \u001b[0mi\u001b[0m \u001b[1;33m=\u001b[0m \u001b[0mself\u001b[0m\u001b[1;33m.\u001b[0m\u001b[0margmax\u001b[0m\u001b[1;33m(\u001b[0m\u001b[0maxis\u001b[0m\u001b[1;33m,\u001b[0m \u001b[0mskipna\u001b[0m\u001b[1;33m,\u001b[0m \u001b[1;33m*\u001b[0m\u001b[0margs\u001b[0m\u001b[1;33m,\u001b[0m \u001b[1;33m**\u001b[0m\u001b[0mkwargs\u001b[0m\u001b[1;33m)\u001b[0m\u001b[1;33m\u001b[0m\u001b[1;33m\u001b[0m\u001b[0m\n\u001b[0m\u001b[0;32m   2356\u001b[0m         \u001b[1;32mif\u001b[0m \u001b[0mi\u001b[0m \u001b[1;33m==\u001b[0m \u001b[1;33m-\u001b[0m\u001b[1;36m1\u001b[0m\u001b[1;33m:\u001b[0m\u001b[1;33m\u001b[0m\u001b[1;33m\u001b[0m\u001b[0m\n\u001b[0;32m   2357\u001b[0m             \u001b[1;32mreturn\u001b[0m \u001b[0mnp\u001b[0m\u001b[1;33m.\u001b[0m\u001b[0mnan\u001b[0m\u001b[1;33m\u001b[0m\u001b[1;33m\u001b[0m\u001b[0m\n",
      "\u001b[1;32mC:\\ProgramData\\Anaconda3\\lib\\site-packages\\pandas\\core\\base.py\u001b[0m in \u001b[0;36margmax\u001b[1;34m(self, axis, skipna, *args, **kwargs)\u001b[0m\n\u001b[0;32m    645\u001b[0m             \u001b[1;31m# error: Incompatible return value type (got \"Union[int, ndarray]\", expected\u001b[0m\u001b[1;33m\u001b[0m\u001b[1;33m\u001b[0m\u001b[0m\n\u001b[0;32m    646\u001b[0m             \u001b[1;31m# \"int\")\u001b[0m\u001b[1;33m\u001b[0m\u001b[1;33m\u001b[0m\u001b[0m\n\u001b[1;32m--> 647\u001b[1;33m             return nanops.nanargmax(  # type: ignore[return-value]\n\u001b[0m\u001b[0;32m    648\u001b[0m                 \u001b[0mdelegate\u001b[0m\u001b[1;33m,\u001b[0m \u001b[0mskipna\u001b[0m\u001b[1;33m=\u001b[0m\u001b[0mskipna\u001b[0m\u001b[1;33m\u001b[0m\u001b[1;33m\u001b[0m\u001b[0m\n\u001b[0;32m    649\u001b[0m             )\n",
      "\u001b[1;32mC:\\ProgramData\\Anaconda3\\lib\\site-packages\\pandas\\core\\nanops.py\u001b[0m in \u001b[0;36m_f\u001b[1;34m(*args, **kwargs)\u001b[0m\n\u001b[0;32m     86\u001b[0m             \u001b[1;32mif\u001b[0m \u001b[0many\u001b[0m\u001b[1;33m(\u001b[0m\u001b[0mself\u001b[0m\u001b[1;33m.\u001b[0m\u001b[0mcheck\u001b[0m\u001b[1;33m(\u001b[0m\u001b[0mobj\u001b[0m\u001b[1;33m)\u001b[0m \u001b[1;32mfor\u001b[0m \u001b[0mobj\u001b[0m \u001b[1;32min\u001b[0m \u001b[0mobj_iter\u001b[0m\u001b[1;33m)\u001b[0m\u001b[1;33m:\u001b[0m\u001b[1;33m\u001b[0m\u001b[1;33m\u001b[0m\u001b[0m\n\u001b[0;32m     87\u001b[0m                 \u001b[0mf_name\u001b[0m \u001b[1;33m=\u001b[0m \u001b[0mf\u001b[0m\u001b[1;33m.\u001b[0m\u001b[0m__name__\u001b[0m\u001b[1;33m.\u001b[0m\u001b[0mreplace\u001b[0m\u001b[1;33m(\u001b[0m\u001b[1;34m\"nan\"\u001b[0m\u001b[1;33m,\u001b[0m \u001b[1;34m\"\"\u001b[0m\u001b[1;33m)\u001b[0m\u001b[1;33m\u001b[0m\u001b[1;33m\u001b[0m\u001b[0m\n\u001b[1;32m---> 88\u001b[1;33m                 raise TypeError(\n\u001b[0m\u001b[0;32m     89\u001b[0m                     \u001b[1;34mf\"reduction operation '{f_name}' not allowed for this dtype\"\u001b[0m\u001b[1;33m\u001b[0m\u001b[1;33m\u001b[0m\u001b[0m\n\u001b[0;32m     90\u001b[0m                 )\n",
      "\u001b[1;31mTypeError\u001b[0m: reduction operation 'argmax' not allowed for this dtype"
     ]
    }
   ],
   "source": [
    "x=mydata[\"sales\"]\n",
    "for i in range(len(mydata.columns)):\n",
    "    print(\"\\033[1m\\n Bivariate Analysis usr Vs\", mydata.columns[i])\n",
    "    plt.figure(figsize=(14,10))\n",
    "    sns.scatterplot(x, mydata[mydata.columns[i]])\n",
    "    plt.show()\n",
    "    df1=mydata.loc[mydata[mydata.columns[i]].idxmax()]\n",
    "    df1=df1[\"sales\"]\n",
    "    print(\"Maximum value of sales is \",df1,\"when \",mydata.columns[i],\" has maximum value of\",np.max(mydata[mydata.columns[i]]))"
   ]
  },
  {
   "cell_type": "code",
   "execution_count": 72,
   "id": "93228619",
   "metadata": {
    "scrolled": true
   },
   "outputs": [
    {
     "data": {
      "text/plain": [
       "<AxesSubplot:>"
      ]
     },
     "execution_count": 72,
     "metadata": {},
     "output_type": "execute_result"
    },
    {
     "data": {
      "image/png": "[encoded data removed]",
      "text/plain": [
       "<Figure size 432x288 with 2 Axes>"
      ]
     },
     "metadata": {
      "needs_background": "light"
     },
     "output_type": "display_data"
    }
   ],
   "source": [
    "sns.heatmap(mydata.corr(), annot=True)"
   ]
  },
  {
   "cell_type": "code",
   "execution_count": 131,
   "id": "e5a8f5d7",
   "metadata": {},
   "outputs": [
    {
     "name": "stdout",
     "output_type": "stream",
     "text": [
      "['capital', 'randd']\n",
      "        feature       VIF\n",
      "0       capital  4.119838\n",
      "1       patents  3.885281\n",
      "2         randd  6.229054\n",
      "3    employment  3.888358\n",
      "4        tobinq  1.566549\n",
      "5         value  3.241414\n",
      "6  institutions  2.447466\n",
      "7     sp500_yes  2.220618\n"
     ]
    }
   ],
   "source": [
    "vif_data = pd.DataFrame()\n",
    "vif_data[\"feature\"] = X.columns\n",
    "  \n",
    "# calculating VIF for each feature\n",
    "vif_data[\"VIF\"] = [variance_inflation_factor(X.values, i)\n",
    "                          for i in range(len(X.columns))]\n",
    "vif_treatment=list(vif_data.loc[vif_data['VIF']>=4]['feature'])\n",
    "print(vif_treatment)\n",
    "  \n",
    "vif_data.sort_values('VIF', ascending=False)\n",
    "print(vif_data)"
   ]
  },
  {
   "cell_type": "markdown",
   "id": "a9379f80",
   "metadata": {},
   "source": [
    "# Imputing Null Values"
   ]
  },
  {
   "cell_type": "code",
   "execution_count": 80,
   "id": "e5d7a91f",
   "metadata": {},
   "outputs": [
    {
     "data": {
      "text/html": [
       "<div>\n",
       "<style scoped>\n",
       "    .dataframe tbody tr th:only-of-type {\n",
       "        vertical-align: middle;\n",
       "    }\n",
       "\n",
       "    .dataframe tbody tr th {\n",
       "        vertical-align: top;\n",
       "    }\n",
       "\n",
       "    .dataframe thead th {\n",
       "        text-align: right;\n",
       "    }\n",
       "</style>\n",
       "<table border=\"1\" class=\"dataframe\">\n",
       "  <thead>\n",
       "    <tr style=\"text-align: right;\">\n",
       "      <th></th>\n",
       "      <th>Unnamed: 0</th>\n",
       "      <th>sales</th>\n",
       "      <th>capital</th>\n",
       "      <th>patents</th>\n",
       "      <th>randd</th>\n",
       "      <th>employment</th>\n",
       "      <th>sp500</th>\n",
       "      <th>tobinq</th>\n",
       "      <th>value</th>\n",
       "      <th>institutions</th>\n",
       "    </tr>\n",
       "  </thead>\n",
       "  <tbody>\n",
       "    <tr>\n",
       "      <th>0</th>\n",
       "      <td>0</td>\n",
       "      <td>826.995050</td>\n",
       "      <td>161.603986</td>\n",
       "      <td>10</td>\n",
       "      <td>382.078247</td>\n",
       "      <td>2.306000</td>\n",
       "      <td>no</td>\n",
       "      <td>11.049511</td>\n",
       "      <td>1625.453755</td>\n",
       "      <td>80.27</td>\n",
       "    </tr>\n",
       "    <tr>\n",
       "      <th>1</th>\n",
       "      <td>1</td>\n",
       "      <td>407.753973</td>\n",
       "      <td>122.101012</td>\n",
       "      <td>2</td>\n",
       "      <td>0.000000</td>\n",
       "      <td>1.860000</td>\n",
       "      <td>no</td>\n",
       "      <td>0.844187</td>\n",
       "      <td>243.117082</td>\n",
       "      <td>59.02</td>\n",
       "    </tr>\n",
       "    <tr>\n",
       "      <th>2</th>\n",
       "      <td>2</td>\n",
       "      <td>8407.845588</td>\n",
       "      <td>6221.144614</td>\n",
       "      <td>138</td>\n",
       "      <td>3296.700439</td>\n",
       "      <td>49.659005</td>\n",
       "      <td>yes</td>\n",
       "      <td>5.205257</td>\n",
       "      <td>25865.233800</td>\n",
       "      <td>47.70</td>\n",
       "    </tr>\n",
       "    <tr>\n",
       "      <th>3</th>\n",
       "      <td>3</td>\n",
       "      <td>451.000010</td>\n",
       "      <td>266.899987</td>\n",
       "      <td>1</td>\n",
       "      <td>83.540161</td>\n",
       "      <td>3.071000</td>\n",
       "      <td>no</td>\n",
       "      <td>0.305221</td>\n",
       "      <td>63.024630</td>\n",
       "      <td>26.88</td>\n",
       "    </tr>\n",
       "    <tr>\n",
       "      <th>4</th>\n",
       "      <td>4</td>\n",
       "      <td>174.927981</td>\n",
       "      <td>140.124004</td>\n",
       "      <td>2</td>\n",
       "      <td>14.233637</td>\n",
       "      <td>1.947000</td>\n",
       "      <td>no</td>\n",
       "      <td>1.063300</td>\n",
       "      <td>67.406408</td>\n",
       "      <td>49.46</td>\n",
       "    </tr>\n",
       "    <tr>\n",
       "      <th>...</th>\n",
       "      <td>...</td>\n",
       "      <td>...</td>\n",
       "      <td>...</td>\n",
       "      <td>...</td>\n",
       "      <td>...</td>\n",
       "      <td>...</td>\n",
       "      <td>...</td>\n",
       "      <td>...</td>\n",
       "      <td>...</td>\n",
       "      <td>...</td>\n",
       "    </tr>\n",
       "    <tr>\n",
       "      <th>754</th>\n",
       "      <td>754</td>\n",
       "      <td>1253.900196</td>\n",
       "      <td>708.299935</td>\n",
       "      <td>32</td>\n",
       "      <td>412.936157</td>\n",
       "      <td>22.100002</td>\n",
       "      <td>yes</td>\n",
       "      <td>0.697454</td>\n",
       "      <td>267.119487</td>\n",
       "      <td>33.50</td>\n",
       "    </tr>\n",
       "    <tr>\n",
       "      <th>755</th>\n",
       "      <td>755</td>\n",
       "      <td>171.821025</td>\n",
       "      <td>73.666008</td>\n",
       "      <td>1</td>\n",
       "      <td>0.037735</td>\n",
       "      <td>1.684000</td>\n",
       "      <td>no</td>\n",
       "      <td>1.680303</td>\n",
       "      <td>228.475701</td>\n",
       "      <td>46.41</td>\n",
       "    </tr>\n",
       "    <tr>\n",
       "      <th>756</th>\n",
       "      <td>756</td>\n",
       "      <td>202.726967</td>\n",
       "      <td>123.926991</td>\n",
       "      <td>13</td>\n",
       "      <td>74.861099</td>\n",
       "      <td>1.460000</td>\n",
       "      <td>no</td>\n",
       "      <td>5.229723</td>\n",
       "      <td>580.430741</td>\n",
       "      <td>42.25</td>\n",
       "    </tr>\n",
       "    <tr>\n",
       "      <th>757</th>\n",
       "      <td>757</td>\n",
       "      <td>785.687944</td>\n",
       "      <td>138.780992</td>\n",
       "      <td>6</td>\n",
       "      <td>0.621750</td>\n",
       "      <td>2.900000</td>\n",
       "      <td>yes</td>\n",
       "      <td>1.625398</td>\n",
       "      <td>309.938651</td>\n",
       "      <td>61.39</td>\n",
       "    </tr>\n",
       "    <tr>\n",
       "      <th>758</th>\n",
       "      <td>758</td>\n",
       "      <td>22.701999</td>\n",
       "      <td>14.244999</td>\n",
       "      <td>5</td>\n",
       "      <td>18.574360</td>\n",
       "      <td>0.197000</td>\n",
       "      <td>no</td>\n",
       "      <td>2.213070</td>\n",
       "      <td>18.940140</td>\n",
       "      <td>7.50</td>\n",
       "    </tr>\n",
       "  </tbody>\n",
       "</table>\n",
       "<p>759 rows × 10 columns</p>\n",
       "</div>"
      ],
      "text/plain": [
       "     Unnamed: 0        sales      capital  patents        randd  employment  \\\n",
       "0             0   826.995050   161.603986       10   382.078247    2.306000   \n",
       "1             1   407.753973   122.101012        2     0.000000    1.860000   \n",
       "2             2  8407.845588  6221.144614      138  3296.700439   49.659005   \n",
       "3             3   451.000010   266.899987        1    83.540161    3.071000   \n",
       "4             4   174.927981   140.124004        2    14.233637    1.947000   \n",
       "..          ...          ...          ...      ...          ...         ...   \n",
       "754         754  1253.900196   708.299935       32   412.936157   22.100002   \n",
       "755         755   171.821025    73.666008        1     0.037735    1.684000   \n",
       "756         756   202.726967   123.926991       13    74.861099    1.460000   \n",
       "757         757   785.687944   138.780992        6     0.621750    2.900000   \n",
       "758         758    22.701999    14.244999        5    18.574360    0.197000   \n",
       "\n",
       "    sp500     tobinq         value  institutions  \n",
       "0      no  11.049511   1625.453755         80.27  \n",
       "1      no   0.844187    243.117082         59.02  \n",
       "2     yes   5.205257  25865.233800         47.70  \n",
       "3      no   0.305221     63.024630         26.88  \n",
       "4      no   1.063300     67.406408         49.46  \n",
       "..    ...        ...           ...           ...  \n",
       "754   yes   0.697454    267.119487         33.50  \n",
       "755    no   1.680303    228.475701         46.41  \n",
       "756    no   5.229723    580.430741         42.25  \n",
       "757   yes   1.625398    309.938651         61.39  \n",
       "758    no   2.213070     18.940140          7.50  \n",
       "\n",
       "[759 rows x 10 columns]"
      ]
     },
     "execution_count": 80,
     "metadata": {},
     "output_type": "execute_result"
    }
   ],
   "source": [
    "# Replacing NaN with a custom value\n",
    "mydata['tobinq'].fillna(mydata.tobinq.median(), inplace = True)   \n",
    "\n",
    "# Replace NaN values with the mean of the column\n",
    "# Data['tobinq'].fillna(Data.tobinq.mean(), inplace = True)  \n",
    "\n",
    "# Replace NaN values with the median of the column\n",
    "# Data['tobinq'].fillna(Data.tobinq.median(), inplace = True)  \n",
    "mydata"
   ]
  },
  {
   "cell_type": "markdown",
   "id": "87547762",
   "metadata": {},
   "source": [
    "# SCALING"
   ]
  },
  {
   "cell_type": "code",
   "execution_count": 77,
   "id": "b1ff7c53",
   "metadata": {},
   "outputs": [
    {
     "name": "stdout",
     "output_type": "stream",
     "text": [
      "Scaled Dataset Using MinMaxScaler\n"
     ]
    },
    {
     "data": {
      "text/html": [
       "<div>\n",
       "<style scoped>\n",
       "    .dataframe tbody tr th:only-of-type {\n",
       "        vertical-align: middle;\n",
       "    }\n",
       "\n",
       "    .dataframe tbody tr th {\n",
       "        vertical-align: top;\n",
       "    }\n",
       "\n",
       "    .dataframe thead th {\n",
       "        text-align: right;\n",
       "    }\n",
       "</style>\n",
       "<table border=\"1\" class=\"dataframe\">\n",
       "  <thead>\n",
       "    <tr style=\"text-align: right;\">\n",
       "      <th></th>\n",
       "      <th>0</th>\n",
       "      <th>1</th>\n",
       "      <th>2</th>\n",
       "      <th>3</th>\n",
       "      <th>4</th>\n",
       "    </tr>\n",
       "  </thead>\n",
       "  <tbody>\n",
       "    <tr>\n",
       "      <th>capital</th>\n",
       "      <td>0.001725</td>\n",
       "      <td>0.001304</td>\n",
       "      <td>0.066447</td>\n",
       "      <td>0.00285</td>\n",
       "      <td>0.001496</td>\n",
       "    </tr>\n",
       "    <tr>\n",
       "      <th>patents</th>\n",
       "      <td>0.008197</td>\n",
       "      <td>0.001639</td>\n",
       "      <td>0.113115</td>\n",
       "      <td>0.00082</td>\n",
       "      <td>0.001639</td>\n",
       "    </tr>\n",
       "    <tr>\n",
       "      <th>randd</th>\n",
       "      <td>0.012558</td>\n",
       "      <td>0.0</td>\n",
       "      <td>0.108354</td>\n",
       "      <td>0.002746</td>\n",
       "      <td>0.000468</td>\n",
       "    </tr>\n",
       "    <tr>\n",
       "      <th>employment</th>\n",
       "      <td>0.003236</td>\n",
       "      <td>0.002608</td>\n",
       "      <td>0.069856</td>\n",
       "      <td>0.004312</td>\n",
       "      <td>0.002731</td>\n",
       "    </tr>\n",
       "    <tr>\n",
       "      <th>tobinq</th>\n",
       "      <td>0.549797</td>\n",
       "      <td>0.036476</td>\n",
       "      <td>0.255835</td>\n",
       "      <td>0.009367</td>\n",
       "      <td>0.047498</td>\n",
       "    </tr>\n",
       "    <tr>\n",
       "      <th>value</th>\n",
       "      <td>0.017055</td>\n",
       "      <td>0.002533</td>\n",
       "      <td>0.271703</td>\n",
       "      <td>0.000641</td>\n",
       "      <td>0.000687</td>\n",
       "    </tr>\n",
       "    <tr>\n",
       "      <th>institutions</th>\n",
       "      <td>0.890405</td>\n",
       "      <td>0.654687</td>\n",
       "      <td>0.529118</td>\n",
       "      <td>0.29817</td>\n",
       "      <td>0.548641</td>\n",
       "    </tr>\n",
       "    <tr>\n",
       "      <th>sp500</th>\n",
       "      <td>no</td>\n",
       "      <td>no</td>\n",
       "      <td>yes</td>\n",
       "      <td>no</td>\n",
       "      <td>no</td>\n",
       "    </tr>\n",
       "  </tbody>\n",
       "</table>\n",
       "</div>"
      ],
      "text/plain": [
       "                     0         1         2         3         4\n",
       "capital       0.001725  0.001304  0.066447   0.00285  0.001496\n",
       "patents       0.008197  0.001639  0.113115   0.00082  0.001639\n",
       "randd         0.012558       0.0  0.108354  0.002746  0.000468\n",
       "employment    0.003236  0.002608  0.069856  0.004312  0.002731\n",
       "tobinq        0.549797  0.036476  0.255835  0.009367  0.047498\n",
       "value         0.017055  0.002533  0.271703  0.000641  0.000687\n",
       "institutions  0.890405  0.654687  0.529118   0.29817  0.548641\n",
       "sp500               no        no       yes        no        no"
      ]
     },
     "execution_count": 77,
     "metadata": {},
     "output_type": "execute_result"
    }
   ],
   "source": [
    "scaler = MinMaxScaler()\n",
    "columns=['capital','patents','randd','employment','tobinq','value','institutions']\n",
    " \n",
    "df_scaled = scaler.fit_transform(df[columns].to_numpy())\n",
    "df_scaled = pd.DataFrame(df_scaled,columns=columns)\n",
    "print(\"Scaled Dataset Using MinMaxScaler\")\n",
    "df_scaled['sp500']=mydata['sp500']\n",
    "df_scaled.head().T"
   ]
  },
  {
   "cell_type": "markdown",
   "id": "a5e3cabe",
   "metadata": {},
   "source": [
    "# Encode"
   ]
  },
  {
   "cell_type": "code",
   "execution_count": 82,
   "id": "1953204e",
   "metadata": {},
   "outputs": [
    {
     "data": {
      "text/html": [
       "<div>\n",
       "<style scoped>\n",
       "    .dataframe tbody tr th:only-of-type {\n",
       "        vertical-align: middle;\n",
       "    }\n",
       "\n",
       "    .dataframe tbody tr th {\n",
       "        vertical-align: top;\n",
       "    }\n",
       "\n",
       "    .dataframe thead th {\n",
       "        text-align: right;\n",
       "    }\n",
       "</style>\n",
       "<table border=\"1\" class=\"dataframe\">\n",
       "  <thead>\n",
       "    <tr style=\"text-align: right;\">\n",
       "      <th></th>\n",
       "      <th>Unnamed: 0</th>\n",
       "      <th>sales</th>\n",
       "      <th>capital</th>\n",
       "      <th>patents</th>\n",
       "      <th>randd</th>\n",
       "      <th>employment</th>\n",
       "      <th>tobinq</th>\n",
       "      <th>value</th>\n",
       "      <th>institutions</th>\n",
       "      <th>sp500_no</th>\n",
       "      <th>sp500_yes</th>\n",
       "    </tr>\n",
       "  </thead>\n",
       "  <tbody>\n",
       "    <tr>\n",
       "      <th>0</th>\n",
       "      <td>0</td>\n",
       "      <td>826.995050</td>\n",
       "      <td>161.603986</td>\n",
       "      <td>10</td>\n",
       "      <td>382.078247</td>\n",
       "      <td>2.306000</td>\n",
       "      <td>11.049511</td>\n",
       "      <td>1625.453755</td>\n",
       "      <td>80.27</td>\n",
       "      <td>1</td>\n",
       "      <td>0</td>\n",
       "    </tr>\n",
       "    <tr>\n",
       "      <th>1</th>\n",
       "      <td>1</td>\n",
       "      <td>407.753973</td>\n",
       "      <td>122.101012</td>\n",
       "      <td>2</td>\n",
       "      <td>0.000000</td>\n",
       "      <td>1.860000</td>\n",
       "      <td>0.844187</td>\n",
       "      <td>243.117082</td>\n",
       "      <td>59.02</td>\n",
       "      <td>1</td>\n",
       "      <td>0</td>\n",
       "    </tr>\n",
       "    <tr>\n",
       "      <th>2</th>\n",
       "      <td>2</td>\n",
       "      <td>8407.845588</td>\n",
       "      <td>6221.144614</td>\n",
       "      <td>138</td>\n",
       "      <td>3296.700439</td>\n",
       "      <td>49.659005</td>\n",
       "      <td>5.205257</td>\n",
       "      <td>25865.233800</td>\n",
       "      <td>47.70</td>\n",
       "      <td>0</td>\n",
       "      <td>1</td>\n",
       "    </tr>\n",
       "    <tr>\n",
       "      <th>3</th>\n",
       "      <td>3</td>\n",
       "      <td>451.000010</td>\n",
       "      <td>266.899987</td>\n",
       "      <td>1</td>\n",
       "      <td>83.540161</td>\n",
       "      <td>3.071000</td>\n",
       "      <td>0.305221</td>\n",
       "      <td>63.024630</td>\n",
       "      <td>26.88</td>\n",
       "      <td>1</td>\n",
       "      <td>0</td>\n",
       "    </tr>\n",
       "    <tr>\n",
       "      <th>4</th>\n",
       "      <td>4</td>\n",
       "      <td>174.927981</td>\n",
       "      <td>140.124004</td>\n",
       "      <td>2</td>\n",
       "      <td>14.233637</td>\n",
       "      <td>1.947000</td>\n",
       "      <td>1.063300</td>\n",
       "      <td>67.406408</td>\n",
       "      <td>49.46</td>\n",
       "      <td>1</td>\n",
       "      <td>0</td>\n",
       "    </tr>\n",
       "    <tr>\n",
       "      <th>...</th>\n",
       "      <td>...</td>\n",
       "      <td>...</td>\n",
       "      <td>...</td>\n",
       "      <td>...</td>\n",
       "      <td>...</td>\n",
       "      <td>...</td>\n",
       "      <td>...</td>\n",
       "      <td>...</td>\n",
       "      <td>...</td>\n",
       "      <td>...</td>\n",
       "      <td>...</td>\n",
       "    </tr>\n",
       "    <tr>\n",
       "      <th>754</th>\n",
       "      <td>754</td>\n",
       "      <td>1253.900196</td>\n",
       "      <td>708.299935</td>\n",
       "      <td>32</td>\n",
       "      <td>412.936157</td>\n",
       "      <td>22.100002</td>\n",
       "      <td>0.697454</td>\n",
       "      <td>267.119487</td>\n",
       "      <td>33.50</td>\n",
       "      <td>0</td>\n",
       "      <td>1</td>\n",
       "    </tr>\n",
       "    <tr>\n",
       "      <th>755</th>\n",
       "      <td>755</td>\n",
       "      <td>171.821025</td>\n",
       "      <td>73.666008</td>\n",
       "      <td>1</td>\n",
       "      <td>0.037735</td>\n",
       "      <td>1.684000</td>\n",
       "      <td>1.680303</td>\n",
       "      <td>228.475701</td>\n",
       "      <td>46.41</td>\n",
       "      <td>1</td>\n",
       "      <td>0</td>\n",
       "    </tr>\n",
       "    <tr>\n",
       "      <th>756</th>\n",
       "      <td>756</td>\n",
       "      <td>202.726967</td>\n",
       "      <td>123.926991</td>\n",
       "      <td>13</td>\n",
       "      <td>74.861099</td>\n",
       "      <td>1.460000</td>\n",
       "      <td>5.229723</td>\n",
       "      <td>580.430741</td>\n",
       "      <td>42.25</td>\n",
       "      <td>1</td>\n",
       "      <td>0</td>\n",
       "    </tr>\n",
       "    <tr>\n",
       "      <th>757</th>\n",
       "      <td>757</td>\n",
       "      <td>785.687944</td>\n",
       "      <td>138.780992</td>\n",
       "      <td>6</td>\n",
       "      <td>0.621750</td>\n",
       "      <td>2.900000</td>\n",
       "      <td>1.625398</td>\n",
       "      <td>309.938651</td>\n",
       "      <td>61.39</td>\n",
       "      <td>0</td>\n",
       "      <td>1</td>\n",
       "    </tr>\n",
       "    <tr>\n",
       "      <th>758</th>\n",
       "      <td>758</td>\n",
       "      <td>22.701999</td>\n",
       "      <td>14.244999</td>\n",
       "      <td>5</td>\n",
       "      <td>18.574360</td>\n",
       "      <td>0.197000</td>\n",
       "      <td>2.213070</td>\n",
       "      <td>18.940140</td>\n",
       "      <td>7.50</td>\n",
       "      <td>1</td>\n",
       "      <td>0</td>\n",
       "    </tr>\n",
       "  </tbody>\n",
       "</table>\n",
       "<p>759 rows × 11 columns</p>\n",
       "</div>"
      ],
      "text/plain": [
       "     Unnamed: 0        sales      capital  patents        randd  employment  \\\n",
       "0             0   826.995050   161.603986       10   382.078247    2.306000   \n",
       "1             1   407.753973   122.101012        2     0.000000    1.860000   \n",
       "2             2  8407.845588  6221.144614      138  3296.700439   49.659005   \n",
       "3             3   451.000010   266.899987        1    83.540161    3.071000   \n",
       "4             4   174.927981   140.124004        2    14.233637    1.947000   \n",
       "..          ...          ...          ...      ...          ...         ...   \n",
       "754         754  1253.900196   708.299935       32   412.936157   22.100002   \n",
       "755         755   171.821025    73.666008        1     0.037735    1.684000   \n",
       "756         756   202.726967   123.926991       13    74.861099    1.460000   \n",
       "757         757   785.687944   138.780992        6     0.621750    2.900000   \n",
       "758         758    22.701999    14.244999        5    18.574360    0.197000   \n",
       "\n",
       "        tobinq         value  institutions  sp500_no  sp500_yes  \n",
       "0    11.049511   1625.453755         80.27         1          0  \n",
       "1     0.844187    243.117082         59.02         1          0  \n",
       "2     5.205257  25865.233800         47.70         0          1  \n",
       "3     0.305221     63.024630         26.88         1          0  \n",
       "4     1.063300     67.406408         49.46         1          0  \n",
       "..         ...           ...           ...       ...        ...  \n",
       "754   0.697454    267.119487         33.50         0          1  \n",
       "755   1.680303    228.475701         46.41         1          0  \n",
       "756   5.229723    580.430741         42.25         1          0  \n",
       "757   1.625398    309.938651         61.39         0          1  \n",
       "758   2.213070     18.940140          7.50         1          0  \n",
       "\n",
       "[759 rows x 11 columns]"
      ]
     },
     "execution_count": 82,
     "metadata": {},
     "output_type": "execute_result"
    }
   ],
   "source": [
    "df = pd.get_dummies(mydata, prefix='sp500', columns=['sp500'])\n",
    "df"
   ]
  },
  {
   "cell_type": "code",
   "execution_count": 83,
   "id": "09370941",
   "metadata": {},
   "outputs": [],
   "source": [
    "df.drop('Unnamed: 0', axis=1, inplace = True)"
   ]
  },
  {
   "cell_type": "code",
   "execution_count": 84,
   "id": "51cb7887",
   "metadata": {},
   "outputs": [],
   "source": [
    "df.drop('sp500_no', axis=1, inplace = True)"
   ]
  },
  {
   "cell_type": "code",
   "execution_count": 132,
   "id": "d511fb13",
   "metadata": {},
   "outputs": [],
   "source": [
    "df.drop('capital', axis=1, inplace = True)"
   ]
  },
  {
   "cell_type": "code",
   "execution_count": 133,
   "id": "56ca5c9f",
   "metadata": {},
   "outputs": [],
   "source": [
    "df.drop('randd', axis=1, inplace = True)"
   ]
  },
  {
   "cell_type": "markdown",
   "id": "e03ae58a",
   "metadata": {},
   "source": [
    "# Split the Data"
   ]
  },
  {
   "cell_type": "code",
   "execution_count": 134,
   "id": "b3683ae2",
   "metadata": {},
   "outputs": [],
   "source": [
    "X = df.drop('sales', axis=1)\n",
    "y = df[['sales']]"
   ]
  },
  {
   "cell_type": "code",
   "execution_count": 135,
   "id": "81e7acb9",
   "metadata": {},
   "outputs": [
    {
     "data": {
      "text/html": [
       "<div>\n",
       "<style scoped>\n",
       "    .dataframe tbody tr th:only-of-type {\n",
       "        vertical-align: middle;\n",
       "    }\n",
       "\n",
       "    .dataframe tbody tr th {\n",
       "        vertical-align: top;\n",
       "    }\n",
       "\n",
       "    .dataframe thead th {\n",
       "        text-align: right;\n",
       "    }\n",
       "</style>\n",
       "<table border=\"1\" class=\"dataframe\">\n",
       "  <thead>\n",
       "    <tr style=\"text-align: right;\">\n",
       "      <th></th>\n",
       "      <th>patents</th>\n",
       "      <th>employment</th>\n",
       "      <th>tobinq</th>\n",
       "      <th>value</th>\n",
       "      <th>institutions</th>\n",
       "    </tr>\n",
       "  </thead>\n",
       "  <tbody>\n",
       "    <tr>\n",
       "      <th>0</th>\n",
       "      <td>10</td>\n",
       "      <td>2.306000</td>\n",
       "      <td>11.049511</td>\n",
       "      <td>1625.453755</td>\n",
       "      <td>80.27</td>\n",
       "    </tr>\n",
       "    <tr>\n",
       "      <th>1</th>\n",
       "      <td>2</td>\n",
       "      <td>1.860000</td>\n",
       "      <td>0.844187</td>\n",
       "      <td>243.117082</td>\n",
       "      <td>59.02</td>\n",
       "    </tr>\n",
       "    <tr>\n",
       "      <th>2</th>\n",
       "      <td>138</td>\n",
       "      <td>49.659005</td>\n",
       "      <td>5.205257</td>\n",
       "      <td>25865.233800</td>\n",
       "      <td>47.70</td>\n",
       "    </tr>\n",
       "    <tr>\n",
       "      <th>3</th>\n",
       "      <td>1</td>\n",
       "      <td>3.071000</td>\n",
       "      <td>0.305221</td>\n",
       "      <td>63.024630</td>\n",
       "      <td>26.88</td>\n",
       "    </tr>\n",
       "    <tr>\n",
       "      <th>4</th>\n",
       "      <td>2</td>\n",
       "      <td>1.947000</td>\n",
       "      <td>1.063300</td>\n",
       "      <td>67.406408</td>\n",
       "      <td>49.46</td>\n",
       "    </tr>\n",
       "  </tbody>\n",
       "</table>\n",
       "</div>"
      ],
      "text/plain": [
       "   patents  employment     tobinq         value  institutions\n",
       "0       10    2.306000  11.049511   1625.453755         80.27\n",
       "1        2    1.860000   0.844187    243.117082         59.02\n",
       "2      138   49.659005   5.205257  25865.233800         47.70\n",
       "3        1    3.071000   0.305221     63.024630         26.88\n",
       "4        2    1.947000   1.063300     67.406408         49.46"
      ]
     },
     "execution_count": 135,
     "metadata": {},
     "output_type": "execute_result"
    }
   ],
   "source": [
    "X.head()"
   ]
  },
  {
   "cell_type": "code",
   "execution_count": 136,
   "id": "d34fab8f",
   "metadata": {},
   "outputs": [
    {
     "data": {
      "text/html": [
       "<div>\n",
       "<style scoped>\n",
       "    .dataframe tbody tr th:only-of-type {\n",
       "        vertical-align: middle;\n",
       "    }\n",
       "\n",
       "    .dataframe tbody tr th {\n",
       "        vertical-align: top;\n",
       "    }\n",
       "\n",
       "    .dataframe thead th {\n",
       "        text-align: right;\n",
       "    }\n",
       "</style>\n",
       "<table border=\"1\" class=\"dataframe\">\n",
       "  <thead>\n",
       "    <tr style=\"text-align: right;\">\n",
       "      <th></th>\n",
       "      <th>sales</th>\n",
       "    </tr>\n",
       "  </thead>\n",
       "  <tbody>\n",
       "    <tr>\n",
       "      <th>0</th>\n",
       "      <td>826.995050</td>\n",
       "    </tr>\n",
       "    <tr>\n",
       "      <th>1</th>\n",
       "      <td>407.753973</td>\n",
       "    </tr>\n",
       "    <tr>\n",
       "      <th>2</th>\n",
       "      <td>8407.845588</td>\n",
       "    </tr>\n",
       "    <tr>\n",
       "      <th>3</th>\n",
       "      <td>451.000010</td>\n",
       "    </tr>\n",
       "    <tr>\n",
       "      <th>4</th>\n",
       "      <td>174.927981</td>\n",
       "    </tr>\n",
       "  </tbody>\n",
       "</table>\n",
       "</div>"
      ],
      "text/plain": [
       "         sales\n",
       "0   826.995050\n",
       "1   407.753973\n",
       "2  8407.845588\n",
       "3   451.000010\n",
       "4   174.927981"
      ]
     },
     "execution_count": 136,
     "metadata": {},
     "output_type": "execute_result"
    }
   ],
   "source": [
    "y.head()"
   ]
  },
  {
   "cell_type": "code",
   "execution_count": 137,
   "id": "e0316603",
   "metadata": {},
   "outputs": [
    {
     "name": "stdout",
     "output_type": "stream",
     "text": [
      "(531, 5) (531, 1)\n",
      "(228, 5) (228, 1)\n"
     ]
    }
   ],
   "source": [
    "X_train, X_test, y_train, y_test = train_test_split(X, y, test_size=0.30 , random_state=123)\n",
    "print(X_train.shape, y_train.shape)\n",
    "print(X_test.shape, y_test.shape)"
   ]
  },
  {
   "cell_type": "code",
   "execution_count": 138,
   "id": "8a141d16",
   "metadata": {},
   "outputs": [
    {
     "data": {
      "text/plain": [
       "Index(['patents', 'employment', 'tobinq', 'value', 'institutions'], dtype='object')"
      ]
     },
     "execution_count": 138,
     "metadata": {},
     "output_type": "execute_result"
    }
   ],
   "source": [
    "X.columns"
   ]
  },
  {
   "cell_type": "markdown",
   "id": "9eb17adc",
   "metadata": {},
   "source": [
    "# Linear Regressioin model"
   ]
  },
  {
   "cell_type": "code",
   "execution_count": 139,
   "id": "454d0c7e",
   "metadata": {},
   "outputs": [
    {
     "data": {
      "text/plain": [
       "LinearRegression()"
      ]
     },
     "execution_count": 139,
     "metadata": {},
     "output_type": "execute_result"
    }
   ],
   "source": [
    "regression_model = LinearRegression()\n",
    "regression_model.fit(X_train, y_train)"
   ]
  },
  {
   "cell_type": "code",
   "execution_count": 140,
   "id": "0a6c25f9",
   "metadata": {},
   "outputs": [
    {
     "name": "stdout",
     "output_type": "stream",
     "text": [
      "The coefficient for patents is 15.276584322633443\n",
      "The coefficient for employment is 145.58806378577813\n",
      "The coefficient for tobinq is -79.50630905099676\n",
      "The coefficient for value is 0.17790393743248134\n",
      "The coefficient for institutions is -10.543794183092317\n"
     ]
    }
   ],
   "source": [
    "# Let us explore the coefficients for each of the independent attributes\n",
    "\n",
    "for idx, col_name in enumerate(X_train.columns):\n",
    "    print(\"The coefficient for {} is {}\".format(col_name, regression_model.coef_[0][idx]))"
   ]
  },
  {
   "cell_type": "code",
   "execution_count": 141,
   "id": "ae953f36",
   "metadata": {},
   "outputs": [
    {
     "name": "stdout",
     "output_type": "stream",
     "text": [
      "The intercept for our model is 493.2435872677197\n"
     ]
    }
   ],
   "source": [
    "# Let us check the intercept for the model\n",
    "intercept = regression_model.intercept_[0]\n",
    "\n",
    "print(\"The intercept for our model is {}\".format(intercept))"
   ]
  },
  {
   "cell_type": "code",
   "execution_count": 142,
   "id": "70066daa",
   "metadata": {},
   "outputs": [
    {
     "data": {
      "text/plain": [
       "0.8521158031628298"
      ]
     },
     "execution_count": 142,
     "metadata": {},
     "output_type": "execute_result"
    }
   ],
   "source": [
    "# R square on training data\n",
    "model1=regression_model.score(X_train, y_train)\n",
    "model1"
   ]
  },
  {
   "cell_type": "code",
   "execution_count": 144,
   "id": "2111876f",
   "metadata": {},
   "outputs": [
    {
     "data": {
      "text/plain": [
       "0.8797374510772246"
      ]
     },
     "execution_count": 144,
     "metadata": {},
     "output_type": "execute_result"
    }
   ],
   "source": [
    "#R square on testing data\n",
    "model2=regression_model.score(X_test, y_test)\n",
    "model2"
   ]
  },
  {
   "cell_type": "code",
   "execution_count": 145,
   "id": "3e73c8d9",
   "metadata": {},
   "outputs": [
    {
     "data": {
      "text/plain": [
       "3630.142501033774"
      ]
     },
     "execution_count": 145,
     "metadata": {},
     "output_type": "execute_result"
    }
   ],
   "source": [
    "#RMSE on training data\n",
    "predicted_train=regression_model.fit(X_train, y_train).predict(X_train)\n",
    "np.sqrt(mean_squared_error(y_train,predicted_train))"
   ]
  },
  {
   "cell_type": "code",
   "execution_count": 146,
   "id": "ba27d81f",
   "metadata": {},
   "outputs": [
    {
     "data": {
      "text/plain": [
       "2334.55672683095"
      ]
     },
     "execution_count": 146,
     "metadata": {},
     "output_type": "execute_result"
    }
   ],
   "source": [
    "##RMSE on testing data\n",
    "predicted_test=regression_model.fit(X_train, y_train).predict(X_test)\n",
    "np.sqrt(mean_squared_error(y_test,predicted_test))"
   ]
  },
  {
   "cell_type": "code",
   "execution_count": 147,
   "id": "cdc7bf5c",
   "metadata": {},
   "outputs": [
    {
     "data": {
      "text/html": [
       "<div>\n",
       "<style scoped>\n",
       "    .dataframe tbody tr th:only-of-type {\n",
       "        vertical-align: middle;\n",
       "    }\n",
       "\n",
       "    .dataframe tbody tr th {\n",
       "        vertical-align: top;\n",
       "    }\n",
       "\n",
       "    .dataframe thead th {\n",
       "        text-align: right;\n",
       "    }\n",
       "</style>\n",
       "<table border=\"1\" class=\"dataframe\">\n",
       "  <thead>\n",
       "    <tr style=\"text-align: right;\">\n",
       "      <th></th>\n",
       "      <th>patents</th>\n",
       "      <th>employment</th>\n",
       "      <th>tobinq</th>\n",
       "      <th>value</th>\n",
       "      <th>institutions</th>\n",
       "      <th>sales</th>\n",
       "    </tr>\n",
       "  </thead>\n",
       "  <tbody>\n",
       "    <tr>\n",
       "      <th>461</th>\n",
       "      <td>3</td>\n",
       "      <td>0.958000</td>\n",
       "      <td>1.680303</td>\n",
       "      <td>156.287797</td>\n",
       "      <td>35.63</td>\n",
       "      <td>123.586022</td>\n",
       "    </tr>\n",
       "    <tr>\n",
       "      <th>155</th>\n",
       "      <td>60</td>\n",
       "      <td>28.000002</td>\n",
       "      <td>2.314482</td>\n",
       "      <td>9924.944095</td>\n",
       "      <td>60.55</td>\n",
       "      <td>7141.303137</td>\n",
       "    </tr>\n",
       "    <tr>\n",
       "      <th>75</th>\n",
       "      <td>18</td>\n",
       "      <td>13.954001</td>\n",
       "      <td>0.641053</td>\n",
       "      <td>957.875643</td>\n",
       "      <td>63.65</td>\n",
       "      <td>2440.900386</td>\n",
       "    </tr>\n",
       "    <tr>\n",
       "      <th>373</th>\n",
       "      <td>0</td>\n",
       "      <td>1.324000</td>\n",
       "      <td>1.530988</td>\n",
       "      <td>59.281898</td>\n",
       "      <td>28.28</td>\n",
       "      <td>123.034020</td>\n",
       "    </tr>\n",
       "    <tr>\n",
       "      <th>633</th>\n",
       "      <td>1</td>\n",
       "      <td>9.060000</td>\n",
       "      <td>0.252283</td>\n",
       "      <td>143.794297</td>\n",
       "      <td>30.25</td>\n",
       "      <td>1042.014058</td>\n",
       "    </tr>\n",
       "  </tbody>\n",
       "</table>\n",
       "</div>"
      ],
      "text/plain": [
       "     patents  employment    tobinq        value  institutions        sales\n",
       "461        3    0.958000  1.680303   156.287797         35.63   123.586022\n",
       "155       60   28.000002  2.314482  9924.944095         60.55  7141.303137\n",
       "75        18   13.954001  0.641053   957.875643         63.65  2440.900386\n",
       "373        0    1.324000  1.530988    59.281898         28.28   123.034020\n",
       "633        1    9.060000  0.252283   143.794297         30.25  1042.014058"
      ]
     },
     "execution_count": 147,
     "metadata": {},
     "output_type": "execute_result"
    }
   ],
   "source": [
    "# concatenate X and y into a single dataframe\n",
    "data_train = pd.concat([X_train, y_train], axis=1)\n",
    "data_test=pd.concat([X_test,y_test],axis=1)\n",
    "data_train.head()"
   ]
  },
  {
   "cell_type": "markdown",
   "id": "54fafedf",
   "metadata": {},
   "source": [
    "# Statsmodel"
   ]
  },
  {
   "cell_type": "code",
   "execution_count": 148,
   "id": "467ace15",
   "metadata": {},
   "outputs": [
    {
     "data": {
      "text/plain": [
       "Index(['patents', 'employment', 'tobinq', 'value', 'institutions', 'sales'], dtype='object')"
      ]
     },
     "execution_count": 148,
     "metadata": {},
     "output_type": "execute_result"
    }
   ],
   "source": [
    "data_train.columns"
   ]
  },
  {
   "cell_type": "code",
   "execution_count": 154,
   "id": "a3ec28ca",
   "metadata": {},
   "outputs": [],
   "source": [
    "expr= 'sales ~ patents+employment+tobinq+value+institutions'"
   ]
  },
  {
   "cell_type": "code",
   "execution_count": 155,
   "id": "ce521ab1",
   "metadata": {},
   "outputs": [
    {
     "data": {
      "text/plain": [
       "Intercept       493.243587\n",
       "patents          15.276584\n",
       "employment      145.588064\n",
       "tobinq          -79.506309\n",
       "value             0.177904\n",
       "institutions    -10.543794\n",
       "dtype: float64"
      ]
     },
     "execution_count": 155,
     "metadata": {},
     "output_type": "execute_result"
    }
   ],
   "source": [
    "import statsmodels.formula.api as smf\n",
    "lm1 = smf.ols(formula= expr, data = data_train).fit()\n",
    "lm1.params"
   ]
  },
  {
   "cell_type": "code",
   "execution_count": 156,
   "id": "c2727f67",
   "metadata": {},
   "outputs": [
    {
     "name": "stdout",
     "output_type": "stream",
     "text": [
      "                            OLS Regression Results                            \n",
      "==============================================================================\n",
      "Dep. Variable:                  sales   R-squared:                       0.852\n",
      "Model:                            OLS   Adj. R-squared:                  0.851\n",
      "Method:                 Least Squares   F-statistic:                     605.0\n",
      "Date:                Wed, 10 Aug 2022   Prob (F-statistic):          3.23e-215\n",
      "Time:                        16:31:53   Log-Likelihood:                -5106.1\n",
      "No. Observations:                 531   AIC:                         1.022e+04\n",
      "Df Residuals:                     525   BIC:                         1.025e+04\n",
      "Df Model:                           5                                         \n",
      "Covariance Type:            nonrobust                                         \n",
      "================================================================================\n",
      "                   coef    std err          t      P>|t|      [0.025      0.975]\n",
      "--------------------------------------------------------------------------------\n",
      "Intercept      493.2436    380.909      1.295      0.196    -255.050    1241.537\n",
      "patents         15.2766      2.604      5.867      0.000      10.161      20.392\n",
      "employment     145.5881      5.054     28.809      0.000     135.660     155.516\n",
      "tobinq         -79.5063     47.679     -1.668      0.096    -173.171      14.159\n",
      "value            0.1779      0.034      5.179      0.000       0.110       0.245\n",
      "institutions   -10.5438      7.418     -1.421      0.156     -25.117       4.030\n",
      "==============================================================================\n",
      "Omnibus:                      386.214   Durbin-Watson:                   1.989\n",
      "Prob(Omnibus):                  0.000   Jarque-Bera (JB):           251313.183\n",
      "Skew:                           1.818   Prob(JB):                         0.00\n",
      "Kurtosis:                     109.516   Cond. No.                     1.85e+04\n",
      "==============================================================================\n",
      "\n",
      "Notes:\n",
      "[1] Standard Errors assume that the covariance matrix of the errors is correctly specified.\n",
      "[2] The condition number is large, 1.85e+04. This might indicate that there are\n",
      "strong multicollinearity or other numerical problems.\n"
     ]
    }
   ],
   "source": [
    "print(lm1.summary())"
   ]
  },
  {
   "cell_type": "code",
   "execution_count": 157,
   "id": "fddd27ad",
   "metadata": {},
   "outputs": [
    {
     "data": {
      "text/plain": [
       "13177934.577811722"
      ]
     },
     "execution_count": 157,
     "metadata": {},
     "output_type": "execute_result"
    }
   ],
   "source": [
    "# Calculate MSE\n",
    "mse = np.mean((lm1.predict(data_train.drop('sales',axis=1))-data_train['sales'])**2)\n",
    "mse"
   ]
  },
  {
   "cell_type": "code",
   "execution_count": 158,
   "id": "e18ad595",
   "metadata": {},
   "outputs": [
    {
     "data": {
      "text/plain": [
       "3630.142501033771"
      ]
     },
     "execution_count": 158,
     "metadata": {},
     "output_type": "execute_result"
    }
   ],
   "source": [
    "#Root Mean Squared Error - RMSE\n",
    "rmse=np.sqrt(mse)\n",
    "rmse"
   ]
  },
  {
   "cell_type": "code",
   "execution_count": 167,
   "id": "0d5a93d0",
   "metadata": {},
   "outputs": [
    {
     "data": {
      "text/plain": [
       "3650.82724110787"
      ]
     },
     "execution_count": 167,
     "metadata": {},
     "output_type": "execute_result"
    }
   ],
   "source": [
    "np.sqrt(lm1.mse_resid)"
   ]
  },
  {
   "cell_type": "code",
   "execution_count": 162,
   "id": "a4529e2e",
   "metadata": {},
   "outputs": [],
   "source": [
    "# Prediction on Test data\n",
    "y_pred = lm1.predict(data_test)"
   ]
  },
  {
   "cell_type": "code",
   "execution_count": 163,
   "id": "a768f480",
   "metadata": {},
   "outputs": [],
   "source": [
    "y_pred = regression_model.predict(X_test)"
   ]
  },
  {
   "cell_type": "markdown",
   "id": "2491900e",
   "metadata": {},
   "source": [
    "# Best fit line"
   ]
  },
  {
   "cell_type": "code",
   "execution_count": 169,
   "id": "d3236aa2",
   "metadata": {},
   "outputs": [
    {
     "data": {
      "text/plain": [
       "Text(0, 0.5, 'Predicted')"
      ]
     },
     "execution_count": 169,
     "metadata": {},
     "output_type": "execute_result"
    },
    {
     "data": {
      "image/png": "[encoded data removed]",
      "text/plain": [
       "<Figure size 504x504 with 1 Axes>"
      ]
     },
     "metadata": {},
     "output_type": "display_data"
    }
   ],
   "source": [
    "sns.set(rc = {'figure.figsize':(7,7)})\n",
    "ax=sns.regplot(x=y_test,y=y_pred,ci=None,color ='blue');\n",
    "ax.set_xlabel('Actual')\n",
    "ax.set_ylabel('Predicted')"
   ]
  },
  {
   "cell_type": "code",
   "execution_count": null,
   "id": "1ffe7682",
   "metadata": {},
   "outputs": [],
   "source": []
  },
  {
   "cell_type": "code",
   "execution_count": null,
   "id": "8a51dfff",
   "metadata": {},
   "outputs": [],
   "source": []
  },
  {
   "cell_type": "code",
   "execution_count": null,
   "id": "9ed026dc",
   "metadata": {},
   "outputs": [],
   "source": []
  },
  {
   "cell_type": "code",
   "execution_count": null,
   "id": "2f2c76e6",
   "metadata": {},
   "outputs": [],
   "source": []
  }
 ],
 "metadata": {
  "kernelspec": {
   "display_name": "Python 3 (ipykernel)",
   "language": "python",
   "name": "python3"
  },
  "language_info": {
   "codemirror_mode": {
    "name": "ipython",
    "version": 3
   },
   "file_extension": ".py",
   "mimetype": "text/x-python",
   "name": "python",
   "nbconvert_exporter": "python",
   "pygments_lexer": "ipython3",
   "version": "3.9.7"
  }
 },
 "nbformat": 4,
 "nbformat_minor": 5
}
